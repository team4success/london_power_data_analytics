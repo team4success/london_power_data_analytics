{
 "cells": [
  {
   "cell_type": "markdown",
   "metadata": {},
   "source": [
    "- Факторы которые влияют на энергопотребление? - почему?\n",
    "- найти факторы и сделать рейтинг факторов\n",
    "- Один дом, один файл.\n",
    "- PDF и код юпитера\n",
    "- К репозиторию файл README\n"
   ]
  },
  {
   "cell_type": "markdown",
   "metadata": {},
   "source": [
    "### Инициализация и загрузка данных"
   ]
  },
  {
   "cell_type": "code",
   "execution_count": 2,
   "metadata": {
    "scrolled": true
   },
   "outputs": [],
   "source": [
    "import os\n",
    "import pandas as pd\n",
    "import re\n",
    "import seaborn as sns\n",
    "import numpy as np\n",
    "import matplotlib.pyplot as plt\n",
    "\n",
    "# Для отладки\n",
    "set_debug = False\n",
    "\n",
    "# Небольшой код который сам ищет необходимые файлы на компьютере\n",
    "# Достаточно установить пути где данные файлы могут находится\n",
    "# Файлы которые нужно искать\n",
    "# Ипапка в которых располагается статистика \n",
    "\n",
    "# Пути где искать папку данных\n",
    "# smart_meters_folder_paths = ['Y:/temp', 'smart-meters-in-london/']\n",
    "smart_meters_folder_path1 = 'Z:/temp/AnacondaProjects/smart-meters-in-london'\n",
    "# smart_meters_folder_path2 = 'C:/Users/konst/AnacondaProjects/smart-meters-in-london/halfhourly_dataset'\n",
    "smart_meters_folder_path2 = 'C:/Users/konst/Desktop/halfhourly_dataset'\n",
    "\n",
    "# Файлы которые нам нужно загружать\n",
    "data_files = ['^acorn_details.csv$',\n",
    "              '^uk_bank_holidays.csv$',\n",
    "              '^weather_daily_darksky.csv$',\n",
    "              '^weather_hourly_darksky.csv$',\n",
    "              '^informations_households.csv$',\n",
    "              '^daily_dataset.csv$', \n",
    "              '^block_0.*']\n",
    "\n",
    "# Для переключения режима отладки, выводит если set_debug == True\n",
    "def debug(*args, **kwargs):\n",
    "    if set_debug is True:\n",
    "        print(*args, **kwargs)\n",
    "\n",
    "# Функция загружает файлы, на вход подается список файлов, и директория, на выходе склеенный датафрейм\n",
    "def load_files(l_files, directory, names=None):\n",
    "    data = pd.DataFrame()\n",
    "    for root, dirs, files in os.walk(directory):\n",
    "        for l_file in l_files:\n",
    "            for file in files:\n",
    "                if re.search(l_file, file):\n",
    "                    temp = pd.read_csv(os.path.join(root, file), encoding='ANSI', names = names)\n",
    "                    data = pd.concat([data, temp])\n",
    "                    debug(len(data))\n",
    "                    debug(file, l_file, os.path.join(root, file))\n",
    "    return data"
   ]
  },
  {
   "cell_type": "code",
   "execution_count": 16,
   "metadata": {},
   "outputs": [],
   "source": [
    "# Загрузка файлов в Pandas\n",
    "#df_acorn_details = load_files(['^acorn_details.csv$'], smart_meters_folder_path1)\n",
    "#df_uk_bank_holidays = load_files(['^uk_bank_holidays.csv$'], smart_meters_folder_path1)\n",
    "#df_weather_daily_darksky = load_files(['^weather_daily_darksky.csv$'], smart_meters_folder_path1)\n",
    "#df_weather_hourly_darksky = load_files(['^weather_hourly_darksky.csv$'], smart_meters_folder_path1)\n",
    "\n",
    "# Информация о датчиках энергопотребления и краткие сведения о домах, в которых эти датчики установлены. Столбцы датафреима:\n",
    "# LCLid – id датчика;\n",
    "# stdorToU – форма оплаты за электроэнергию в доме, в котором установлен датчик (Std –\n",
    "# стандартная, ToU – оплата зависит от времени суток);\n",
    "# Acorn, Acorn_grouped – информация о том, к какой категории потребителей по системе ACORN относится семья, проживающая в данном доме;\n",
    "# file – имя фаила, содержащего показатели счетчиков.\n",
    "df_informations_households = load_files(['^informations_households.csv$'], smart_meters_folder_path1)\n",
    "\n",
    "# Архив содержит 112 фаилов, содержащих обобщенные данные об энергопотреблении за каждые сутки.\n",
    "# Каждый фаил содержит информацию с датчиков, установленных в одном доме. Столбцы датафреима:\n",
    "# LCLid – id датчика;\n",
    "# day – дата;\n",
    "# energy_median – медиана суточных показателей;\n",
    "# energy_mean – среднее арифметическое суточных показателей;\n",
    "# energy_max – максимальное значение энергопотребления, зафиксированное датчиком в течение дня;\n",
    "# energy_count – количество показателей, зафиксированных датчиком в течение дня;\n",
    "# energy_std – стандартное отклонение;\n",
    "# energy_sum – сумма значений всех показателей;\n",
    "# energy_min – минимальное значение энергопотребления, зафиксированное датчиком в течение дня.\n",
    "# df_daily_dataset = load_files(['^daily_dataset.csv$'], smart_meters_folder_path1)\n",
    "df_daily_dataset = pd.read_csv('{}/daily_dataset.csv/daily_dataset.csv'.format(smart_meters_folder_path1),  parse_dates = ['day'])\n",
    "\n",
    "\n",
    "# df_daily_dataset = load_files(['^block_0\\..*'], smart_meters_folder_path2)"
   ]
  },
  {
   "cell_type": "markdown",
   "metadata": {},
   "source": [
    "### Информация о загруженных данных"
   ]
  },
  {
   "cell_type": "code",
   "execution_count": 4,
   "metadata": {},
   "outputs": [
    {
     "name": "stdout",
     "output_type": "stream",
     "text": [
      "<class 'pandas.core.frame.DataFrame'>\n",
      "RangeIndex: 5566 entries, 0 to 5565\n",
      "Data columns (total 5 columns):\n",
      "LCLid            5566 non-null object\n",
      "stdorToU         5566 non-null object\n",
      "Acorn            5566 non-null object\n",
      "Acorn_grouped    5566 non-null object\n",
      "file             5566 non-null object\n",
      "dtypes: object(5)\n",
      "memory usage: 217.5+ KB\n"
     ]
    }
   ],
   "source": [
    "df_informations_households.info()"
   ]
  },
  {
   "cell_type": "code",
   "execution_count": 5,
   "metadata": {},
   "outputs": [
    {
     "name": "stdout",
     "output_type": "stream",
     "text": [
      "<class 'pandas.core.frame.DataFrame'>\n",
      "RangeIndex: 3510433 entries, 0 to 3510432\n",
      "Data columns (total 9 columns):\n",
      "LCLid            object\n",
      "day              object\n",
      "energy_median    float64\n",
      "energy_mean      float64\n",
      "energy_max       float64\n",
      "energy_count     int64\n",
      "energy_std       float64\n",
      "energy_sum       float64\n",
      "energy_min       float64\n",
      "dtypes: float64(6), int64(1), object(2)\n",
      "memory usage: 241.0+ MB\n"
     ]
    }
   ],
   "source": [
    "df_daily_dataset.info()"
   ]
  },
  {
   "cell_type": "markdown",
   "metadata": {},
   "source": [
    "### Определение типа счетчика в зависимости от класса ACORN\n",
    "Получение процентного соотношения ToU/Std в зависимости от класса"
   ]
  },
  {
   "cell_type": "code",
   "execution_count": 5,
   "metadata": {},
   "outputs": [],
   "source": [
    "# выдает 1 если счетчик ToU\n",
    "def count_ToU(row):\n",
    "    if row['stdorToU'] == 'ToU':\n",
    "        return 1\n",
    "    return 0\n",
    "\n",
    "# выдает 1 если счетчик Std\n",
    "def count_Std(row):\n",
    "    if row['stdorToU'] == 'Std':\n",
    "        return 1\n",
    "    return 0\n",
    "\n",
    "def ToU_percentage(row):\n",
    "    return round((row['ToU'] / (row['ToU'] + row['Std']))*100,1)"
   ]
  },
  {
   "cell_type": "code",
   "execution_count": 6,
   "metadata": {},
   "outputs": [
    {
     "data": {
      "text/html": [
       "<div>\n",
       "<style scoped>\n",
       "    .dataframe tbody tr th:only-of-type {\n",
       "        vertical-align: middle;\n",
       "    }\n",
       "\n",
       "    .dataframe tbody tr th {\n",
       "        vertical-align: top;\n",
       "    }\n",
       "\n",
       "    .dataframe thead th {\n",
       "        text-align: right;\n",
       "    }\n",
       "</style>\n",
       "<table border=\"1\" class=\"dataframe\">\n",
       "  <thead>\n",
       "    <tr style=\"text-align: right;\">\n",
       "      <th></th>\n",
       "      <th>LCLid</th>\n",
       "      <th>stdorToU</th>\n",
       "      <th>Acorn</th>\n",
       "      <th>Acorn_grouped</th>\n",
       "      <th>file</th>\n",
       "    </tr>\n",
       "  </thead>\n",
       "  <tbody>\n",
       "    <tr>\n",
       "      <th>0</th>\n",
       "      <td>MAC005492</td>\n",
       "      <td>ToU</td>\n",
       "      <td>ACORN-</td>\n",
       "      <td>ACORN-</td>\n",
       "      <td>block_0</td>\n",
       "    </tr>\n",
       "    <tr>\n",
       "      <th>1</th>\n",
       "      <td>MAC001074</td>\n",
       "      <td>ToU</td>\n",
       "      <td>ACORN-</td>\n",
       "      <td>ACORN-</td>\n",
       "      <td>block_0</td>\n",
       "    </tr>\n",
       "    <tr>\n",
       "      <th>2</th>\n",
       "      <td>MAC000002</td>\n",
       "      <td>Std</td>\n",
       "      <td>ACORN-A</td>\n",
       "      <td>Affluent</td>\n",
       "      <td>block_0</td>\n",
       "    </tr>\n",
       "    <tr>\n",
       "      <th>3</th>\n",
       "      <td>MAC003613</td>\n",
       "      <td>Std</td>\n",
       "      <td>ACORN-A</td>\n",
       "      <td>Affluent</td>\n",
       "      <td>block_0</td>\n",
       "    </tr>\n",
       "    <tr>\n",
       "      <th>4</th>\n",
       "      <td>MAC003597</td>\n",
       "      <td>Std</td>\n",
       "      <td>ACORN-A</td>\n",
       "      <td>Affluent</td>\n",
       "      <td>block_0</td>\n",
       "    </tr>\n",
       "  </tbody>\n",
       "</table>\n",
       "</div>"
      ],
      "text/plain": [
       "       LCLid stdorToU    Acorn Acorn_grouped     file\n",
       "0  MAC005492      ToU   ACORN-        ACORN-  block_0\n",
       "1  MAC001074      ToU   ACORN-        ACORN-  block_0\n",
       "2  MAC000002      Std  ACORN-A      Affluent  block_0\n",
       "3  MAC003613      Std  ACORN-A      Affluent  block_0\n",
       "4  MAC003597      Std  ACORN-A      Affluent  block_0"
      ]
     },
     "execution_count": 6,
     "metadata": {},
     "output_type": "execute_result"
    }
   ],
   "source": [
    "df_informations_households.head()"
   ]
  },
  {
   "cell_type": "code",
   "execution_count": 7,
   "metadata": {},
   "outputs": [
    {
     "data": {
      "text/html": [
       "<div>\n",
       "<style scoped>\n",
       "    .dataframe tbody tr th:only-of-type {\n",
       "        vertical-align: middle;\n",
       "    }\n",
       "\n",
       "    .dataframe tbody tr th {\n",
       "        vertical-align: top;\n",
       "    }\n",
       "\n",
       "    .dataframe thead th {\n",
       "        text-align: right;\n",
       "    }\n",
       "</style>\n",
       "<table border=\"1\" class=\"dataframe\">\n",
       "  <thead>\n",
       "    <tr style=\"text-align: right;\">\n",
       "      <th></th>\n",
       "      <th>LCLid</th>\n",
       "      <th>stdorToU</th>\n",
       "      <th>Acorn</th>\n",
       "      <th>Acorn_grouped</th>\n",
       "      <th>file</th>\n",
       "      <th>ToU</th>\n",
       "      <th>Std</th>\n",
       "    </tr>\n",
       "  </thead>\n",
       "  <tbody>\n",
       "    <tr>\n",
       "      <th>0</th>\n",
       "      <td>MAC005492</td>\n",
       "      <td>ToU</td>\n",
       "      <td>ACORN-</td>\n",
       "      <td>ACORN-</td>\n",
       "      <td>block_0</td>\n",
       "      <td>1</td>\n",
       "      <td>0</td>\n",
       "    </tr>\n",
       "  </tbody>\n",
       "</table>\n",
       "</div>"
      ],
      "text/plain": [
       "       LCLid stdorToU   Acorn Acorn_grouped     file  ToU  Std\n",
       "0  MAC005492      ToU  ACORN-        ACORN-  block_0    1    0"
      ]
     },
     "execution_count": 7,
     "metadata": {},
     "output_type": "execute_result"
    }
   ],
   "source": [
    "# Изменяем таблицу df_informations_households так, чтобы тип счетчика был в раздельных столбцах ToU Std\n",
    "# Обогащение нужными нам данными\n",
    "df_informations_households['ToU'] = df_informations_households.apply(count_ToU, axis=1)\n",
    "df_informations_households['Std'] = df_informations_households.apply(count_Std, axis=1)\n",
    "df_informations_households.head(1)"
   ]
  },
  {
   "cell_type": "code",
   "execution_count": 8,
   "metadata": {},
   "outputs": [],
   "source": [
    "# Группируем с нахождением кол-ва типов счетчиков для каждого класса\n",
    "counter_type_stats = df_informations_households.groupby(by = 'Acorn', as_index=False)['ToU', 'Std'].sum()\n",
    "\n",
    "# Вычесляем процент установленных счетчиков ToU\n",
    "counter_type_stats['ToU_perc'] = counter_type_stats.apply(ToU_percentage, axis=1)"
   ]
  },
  {
   "cell_type": "markdown",
   "metadata": {},
   "source": [
    "### Процент счетчиков ToU в зависимости от класса"
   ]
  },
  {
   "cell_type": "code",
   "execution_count": 9,
   "metadata": {
    "scrolled": false
   },
   "outputs": [
    {
     "data": {
      "text/plain": [
       "<matplotlib.axes._subplots.AxesSubplot at 0x250da636ac8>"
      ]
     },
     "execution_count": 9,
     "metadata": {},
     "output_type": "execute_result"
    },
    {
     "data": {
      "image/png": "[encoded data removed]",
      "text/plain": [
       "<Figure size 720x432 with 1 Axes>"
      ]
     },
     "metadata": {
      "needs_background": "light"
     },
     "output_type": "display_data"
    }
   ],
   "source": [
    "# Строим график\n",
    "plt.figure(figsize=(10, 6))\n",
    "sns.barplot(x = 'ToU_perc', y = 'Acorn', color='gray', data = counter_type_stats[counter_type_stats['Acorn'] != 'ACORN-'])"
   ]
  },
  {
   "cell_type": "markdown",
   "metadata": {},
   "source": [
    "### Расчет среднего потребления энергии в зависимости от класса"
   ]
  },
  {
   "cell_type": "code",
   "execution_count": 9,
   "metadata": {},
   "outputs": [],
   "source": [
    "# обогащение данных\n",
    "daily_dataset_with_hh_info = df_daily_dataset.merge(df_informations_households, how = 'left', on = 'LCLid')"
   ]
  },
  {
   "cell_type": "code",
   "execution_count": 11,
   "metadata": {},
   "outputs": [
    {
     "data": {
      "text/html": [
       "<div>\n",
       "<style scoped>\n",
       "    .dataframe tbody tr th:only-of-type {\n",
       "        vertical-align: middle;\n",
       "    }\n",
       "\n",
       "    .dataframe tbody tr th {\n",
       "        vertical-align: top;\n",
       "    }\n",
       "\n",
       "    .dataframe thead th {\n",
       "        text-align: right;\n",
       "    }\n",
       "</style>\n",
       "<table border=\"1\" class=\"dataframe\">\n",
       "  <thead>\n",
       "    <tr style=\"text-align: right;\">\n",
       "      <th></th>\n",
       "      <th>min</th>\n",
       "      <th>max</th>\n",
       "    </tr>\n",
       "    <tr>\n",
       "      <th>Acorn</th>\n",
       "      <th></th>\n",
       "      <th></th>\n",
       "    </tr>\n",
       "  </thead>\n",
       "  <tbody>\n",
       "    <tr>\n",
       "      <th>ACORN-</th>\n",
       "      <td>2012-04-18</td>\n",
       "      <td>2014-02-27</td>\n",
       "    </tr>\n",
       "    <tr>\n",
       "      <th>ACORN-A</th>\n",
       "      <td>2011-12-04</td>\n",
       "      <td>2014-02-27</td>\n",
       "    </tr>\n",
       "    <tr>\n",
       "      <th>ACORN-B</th>\n",
       "      <td>2011-12-24</td>\n",
       "      <td>2014-02-27</td>\n",
       "    </tr>\n",
       "    <tr>\n",
       "      <th>ACORN-C</th>\n",
       "      <td>2011-12-07</td>\n",
       "      <td>2014-02-27</td>\n",
       "    </tr>\n",
       "    <tr>\n",
       "      <th>ACORN-D</th>\n",
       "      <td>2011-11-24</td>\n",
       "      <td>2014-02-27</td>\n",
       "    </tr>\n",
       "    <tr>\n",
       "      <th>ACORN-E</th>\n",
       "      <td>2011-11-24</td>\n",
       "      <td>2014-02-27</td>\n",
       "    </tr>\n",
       "    <tr>\n",
       "      <th>ACORN-F</th>\n",
       "      <td>2011-11-24</td>\n",
       "      <td>2014-02-27</td>\n",
       "    </tr>\n",
       "    <tr>\n",
       "      <th>ACORN-G</th>\n",
       "      <td>2011-11-24</td>\n",
       "      <td>2014-02-27</td>\n",
       "    </tr>\n",
       "    <tr>\n",
       "      <th>ACORN-H</th>\n",
       "      <td>2011-11-25</td>\n",
       "      <td>2014-02-27</td>\n",
       "    </tr>\n",
       "    <tr>\n",
       "      <th>ACORN-I</th>\n",
       "      <td>2012-01-24</td>\n",
       "      <td>2014-02-27</td>\n",
       "    </tr>\n",
       "    <tr>\n",
       "      <th>ACORN-J</th>\n",
       "      <td>2011-12-08</td>\n",
       "      <td>2014-02-27</td>\n",
       "    </tr>\n",
       "    <tr>\n",
       "      <th>ACORN-K</th>\n",
       "      <td>2011-11-29</td>\n",
       "      <td>2014-02-27</td>\n",
       "    </tr>\n",
       "    <tr>\n",
       "      <th>ACORN-L</th>\n",
       "      <td>2011-11-24</td>\n",
       "      <td>2014-02-27</td>\n",
       "    </tr>\n",
       "    <tr>\n",
       "      <th>ACORN-M</th>\n",
       "      <td>2011-12-15</td>\n",
       "      <td>2014-02-27</td>\n",
       "    </tr>\n",
       "    <tr>\n",
       "      <th>ACORN-N</th>\n",
       "      <td>2011-12-09</td>\n",
       "      <td>2014-02-27</td>\n",
       "    </tr>\n",
       "    <tr>\n",
       "      <th>ACORN-O</th>\n",
       "      <td>2011-11-26</td>\n",
       "      <td>2014-02-27</td>\n",
       "    </tr>\n",
       "    <tr>\n",
       "      <th>ACORN-P</th>\n",
       "      <td>2011-12-08</td>\n",
       "      <td>2014-02-27</td>\n",
       "    </tr>\n",
       "    <tr>\n",
       "      <th>ACORN-Q</th>\n",
       "      <td>2011-11-24</td>\n",
       "      <td>2014-02-27</td>\n",
       "    </tr>\n",
       "    <tr>\n",
       "      <th>ACORN-U</th>\n",
       "      <td>2011-12-08</td>\n",
       "      <td>2014-02-27</td>\n",
       "    </tr>\n",
       "  </tbody>\n",
       "</table>\n",
       "</div>"
      ],
      "text/plain": [
       "                min         max\n",
       "Acorn                          \n",
       "ACORN-   2012-04-18  2014-02-27\n",
       "ACORN-A  2011-12-04  2014-02-27\n",
       "ACORN-B  2011-12-24  2014-02-27\n",
       "ACORN-C  2011-12-07  2014-02-27\n",
       "ACORN-D  2011-11-24  2014-02-27\n",
       "ACORN-E  2011-11-24  2014-02-27\n",
       "ACORN-F  2011-11-24  2014-02-27\n",
       "ACORN-G  2011-11-24  2014-02-27\n",
       "ACORN-H  2011-11-25  2014-02-27\n",
       "ACORN-I  2012-01-24  2014-02-27\n",
       "ACORN-J  2011-12-08  2014-02-27\n",
       "ACORN-K  2011-11-29  2014-02-27\n",
       "ACORN-L  2011-11-24  2014-02-27\n",
       "ACORN-M  2011-12-15  2014-02-27\n",
       "ACORN-N  2011-12-09  2014-02-27\n",
       "ACORN-O  2011-11-26  2014-02-27\n",
       "ACORN-P  2011-12-08  2014-02-27\n",
       "ACORN-Q  2011-11-24  2014-02-27\n",
       "ACORN-U  2011-12-08  2014-02-27"
      ]
     },
     "execution_count": 11,
     "metadata": {},
     "output_type": "execute_result"
    }
   ],
   "source": [
    "# Просмотр минимальных и максимальных дат по каждому классу для того чтобы определить насколько полные данные нам предоставлены\n",
    "daily_dataset_with_hh_info[ daily_dataset_with_hh_info['energy_count'] == 48][['Acorn', 'day']]\\\n",
    ".groupby(by = 'Acorn')['day'].agg([min, max])"
   ]
  },
  {
   "cell_type": "code",
   "execution_count": 12,
   "metadata": {},
   "outputs": [
    {
     "data": {
      "text/html": [
       "<div>\n",
       "<style scoped>\n",
       "    .dataframe tbody tr th:only-of-type {\n",
       "        vertical-align: middle;\n",
       "    }\n",
       "\n",
       "    .dataframe tbody tr th {\n",
       "        vertical-align: top;\n",
       "    }\n",
       "\n",
       "    .dataframe thead th {\n",
       "        text-align: right;\n",
       "    }\n",
       "</style>\n",
       "<table border=\"1\" class=\"dataframe\">\n",
       "  <thead>\n",
       "    <tr style=\"text-align: right;\">\n",
       "      <th></th>\n",
       "      <th>Acorn</th>\n",
       "      <th>day</th>\n",
       "    </tr>\n",
       "  </thead>\n",
       "  <tbody>\n",
       "    <tr>\n",
       "      <th>0</th>\n",
       "      <td>ACORN-</td>\n",
       "      <td>771</td>\n",
       "    </tr>\n",
       "    <tr>\n",
       "      <th>1</th>\n",
       "      <td>ACORN-A</td>\n",
       "      <td>91872</td>\n",
       "    </tr>\n",
       "    <tr>\n",
       "      <th>2</th>\n",
       "      <td>ACORN-B</td>\n",
       "      <td>14321</td>\n",
       "    </tr>\n",
       "    <tr>\n",
       "      <th>3</th>\n",
       "      <td>ACORN-C</td>\n",
       "      <td>87783</td>\n",
       "    </tr>\n",
       "    <tr>\n",
       "      <th>4</th>\n",
       "      <td>ACORN-D</td>\n",
       "      <td>186880</td>\n",
       "    </tr>\n",
       "    <tr>\n",
       "      <th>5</th>\n",
       "      <td>ACORN-E</td>\n",
       "      <td>1011407</td>\n",
       "    </tr>\n",
       "    <tr>\n",
       "      <th>6</th>\n",
       "      <td>ACORN-F</td>\n",
       "      <td>441804</td>\n",
       "    </tr>\n",
       "    <tr>\n",
       "      <th>7</th>\n",
       "      <td>ACORN-G</td>\n",
       "      <td>122381</td>\n",
       "    </tr>\n",
       "    <tr>\n",
       "      <th>8</th>\n",
       "      <td>ACORN-H</td>\n",
       "      <td>268989</td>\n",
       "    </tr>\n",
       "    <tr>\n",
       "      <th>9</th>\n",
       "      <td>ACORN-I</td>\n",
       "      <td>29120</td>\n",
       "    </tr>\n",
       "    <tr>\n",
       "      <th>10</th>\n",
       "      <td>ACORN-J</td>\n",
       "      <td>64043</td>\n",
       "    </tr>\n",
       "    <tr>\n",
       "      <th>11</th>\n",
       "      <td>ACORN-K</td>\n",
       "      <td>105129</td>\n",
       "    </tr>\n",
       "    <tr>\n",
       "      <th>12</th>\n",
       "      <td>ACORN-L</td>\n",
       "      <td>201723</td>\n",
       "    </tr>\n",
       "    <tr>\n",
       "      <th>13</th>\n",
       "      <td>ACORN-M</td>\n",
       "      <td>65461</td>\n",
       "    </tr>\n",
       "    <tr>\n",
       "      <th>14</th>\n",
       "      <td>ACORN-N</td>\n",
       "      <td>90803</td>\n",
       "    </tr>\n",
       "    <tr>\n",
       "      <th>15</th>\n",
       "      <td>ACORN-O</td>\n",
       "      <td>60135</td>\n",
       "    </tr>\n",
       "    <tr>\n",
       "      <th>16</th>\n",
       "      <td>ACORN-P</td>\n",
       "      <td>71297</td>\n",
       "    </tr>\n",
       "    <tr>\n",
       "      <th>17</th>\n",
       "      <td>ACORN-Q</td>\n",
       "      <td>526266</td>\n",
       "    </tr>\n",
       "    <tr>\n",
       "      <th>18</th>\n",
       "      <td>ACORN-U</td>\n",
       "      <td>29167</td>\n",
       "    </tr>\n",
       "  </tbody>\n",
       "</table>\n",
       "</div>"
      ],
      "text/plain": [
       "      Acorn      day\n",
       "0    ACORN-      771\n",
       "1   ACORN-A    91872\n",
       "2   ACORN-B    14321\n",
       "3   ACORN-C    87783\n",
       "4   ACORN-D   186880\n",
       "5   ACORN-E  1011407\n",
       "6   ACORN-F   441804\n",
       "7   ACORN-G   122381\n",
       "8   ACORN-H   268989\n",
       "9   ACORN-I    29120\n",
       "10  ACORN-J    64043\n",
       "11  ACORN-K   105129\n",
       "12  ACORN-L   201723\n",
       "13  ACORN-M    65461\n",
       "14  ACORN-N    90803\n",
       "15  ACORN-O    60135\n",
       "16  ACORN-P    71297\n",
       "17  ACORN-Q   526266\n",
       "18  ACORN-U    29167"
      ]
     },
     "execution_count": 12,
     "metadata": {},
     "output_type": "execute_result"
    }
   ],
   "source": [
    "# Просмотр кол-ва счетчиков в каждом классе, для оценки предоставленных данных \n",
    "daily_dataset_with_hh_info[ daily_dataset_with_hh_info['energy_count'] == 48][['Acorn', 'day']]\\\n",
    ".groupby(by = 'Acorn', as_index=False)['day'].count()"
   ]
  },
  {
   "cell_type": "code",
   "execution_count": 13,
   "metadata": {},
   "outputs": [
    {
     "data": {
      "image/png": "[encoded data removed]",
      "text/plain": [
       "<Figure size 432x288 with 1 Axes>"
      ]
     },
     "metadata": {
      "needs_background": "light"
     },
     "output_type": "display_data"
    }
   ],
   "source": [
    "# Смотрим разпределение кол-ва показаний для счетчиков, чтоб понимать, насколько полные данные у нас имеются\n",
    "df = daily_dataset_with_hh_info[ daily_dataset_with_hh_info['energy_count'] == 48][['LCLid', 'Acorn', 'day']]\\\n",
    ".groupby(by = 'LCLid', as_index=False)['day', 'Acorn'].count()\n",
    "sns.distplot(df['Acorn'])\n",
    "\n",
    "# освобождаем память\n",
    "df = None"
   ]
  },
  {
   "cell_type": "markdown",
   "metadata": {},
   "source": [
    "#### Расчет результата и строительство графика по классам"
   ]
  },
  {
   "cell_type": "code",
   "execution_count": 14,
   "metadata": {},
   "outputs": [],
   "source": [
    "# создаем датафрейм, в котором для каждой категории ACORN показан средний расход по разным типам счетчиков\n",
    "# Исключаем дни с неполными показаниями, менее 48 и неопределенную категорию\n",
    "counter_type_consumption = daily_dataset_with_hh_info[\n",
    "    (daily_dataset_with_hh_info['energy_count'] == 48) &\n",
    "    (daily_dataset_with_hh_info['Acorn'] != 'ACORN-')\n",
    "].groupby(by = ['Acorn', 'stdorToU'], as_index=False)['energy_sum', 'energy_max'].mean()"
   ]
  },
  {
   "cell_type": "code",
   "execution_count": 15,
   "metadata": {},
   "outputs": [
    {
     "data": {
      "text/plain": [
       "([0, 1, 2, 3, 4, 5, 6, 7, 8, 9, 10, 11, 12, 13, 14, 15, 16, 17],\n",
       " <a list of 18 Text xticklabel objects>)"
      ]
     },
     "execution_count": 15,
     "metadata": {},
     "output_type": "execute_result"
    },
    {
     "data": {
      "text/plain": [
       "<Figure size 720x720 with 0 Axes>"
      ]
     },
     "metadata": {},
     "output_type": "display_data"
    },
    {
     "data": {
      "image/png": "[encoded data removed]",
      "text/plain": [
       "<Figure size 432x288 with 1 Axes>"
      ]
     },
     "metadata": {
      "needs_background": "light"
     },
     "output_type": "display_data"
    }
   ],
   "source": [
    "# Строим график для наглядности данных\n",
    "\n",
    "# Трансформируем таблицу чтобы средние показания счетчиков были разненсены по колонкам\n",
    "ct = counter_type_consumption.pivot(\n",
    "    index='Acorn', columns='stdorToU', values='energy_sum'\n",
    ").reset_index()\n",
    "\n",
    "# Строим график\n",
    "\n",
    "# Размер\n",
    "plt.figure(figsize=(10, 10))\n",
    "fig = plt.figure()\n",
    "axes = fig.add_axes([0, 0, 1, 1])\n",
    "axes.bar(x = ct['Acorn'], height = ct['Std'], \n",
    "         width = 0.4, align = 'edge', label = 'Std')\n",
    "axes.bar(x = ct['Acorn'], height = ct['ToU'], \n",
    "         width = -0.4, align = 'edge', label = 'ToU')\n",
    "axes.legend(loc = 1)\n",
    "\n",
    "# Поворот подписей по оси Х\n",
    "plt.xticks(rotation=90)"
   ]
  },
  {
   "cell_type": "markdown",
   "metadata": {},
   "source": [
    "#### Расчет общего влияния установки счетчика:"
   ]
  },
  {
   "cell_type": "code",
   "execution_count": 16,
   "metadata": {},
   "outputs": [],
   "source": [
    "# создаем датафрейм, в котором для каждого типа счетчика показан средний расход\n",
    "# Исключаем дни с неполными показаниями, менее 48 и неопределенную категорию\n",
    "report = daily_dataset_with_hh_info[\n",
    "    (daily_dataset_with_hh_info['energy_count'] == 48) &\n",
    "    (daily_dataset_with_hh_info['Acorn'] != 'ACORN-')\n",
    "].groupby(by = 'stdorToU', as_index=False).mean()"
   ]
  },
  {
   "cell_type": "code",
   "execution_count": 17,
   "metadata": {},
   "outputs": [
    {
     "data": {
      "text/plain": [
       "<matplotlib.axes._subplots.AxesSubplot at 0x25080338438>"
      ]
     },
     "execution_count": 17,
     "metadata": {},
     "output_type": "execute_result"
    },
    {
     "data": {
      "image/png": "[encoded data removed]",
      "text/plain": [
       "<Figure size 432x288 with 1 Axes>"
      ]
     },
     "metadata": {
      "needs_background": "light"
     },
     "output_type": "display_data"
    }
   ],
   "source": [
    "# строим график\n",
    "sns.barplot(x = 'stdorToU', y = 'energy_sum', data = report)"
   ]
  },
  {
   "cell_type": "markdown",
   "metadata": {},
   "source": [
    "#### Вычисляем общий процент экономии:"
   ]
  },
  {
   "cell_type": "code",
   "execution_count": 18,
   "metadata": {},
   "outputs": [],
   "source": [
    "def ToU_percentage(row):\n",
    "    return round((row['ToU']/((row['Std'] + row['ToU'])/2))*100)-100\n",
    "\n",
    "def Std_percentage(row):\n",
    "    return round((row['Std']/((row['Std'] + row['ToU'])/2))*100)-100\n",
    "\n",
    "# создаем датафрейм, в котором для каждого типа счетчика показан средний расход\n",
    "# Исключаем дни с неполными показаниями, менее 48 и неопределенную категорию\n",
    "report = daily_dataset_with_hh_info[\n",
    "    (daily_dataset_with_hh_info['energy_count'] == 48) &\n",
    "    (daily_dataset_with_hh_info['Acorn'] != 'ACORN-')\n",
    "].groupby(by = 'stdorToU')['energy_sum'].mean()\n",
    "\n",
    "# Делаем из серийного объекта датафрейм и поворачиваем его для удобства\n",
    "report2 = pd.DataFrame(index = report.index, data={'avg_power':report.values}).T\n",
    "report2['Std_p'] = report2.apply(Std_percentage, axis=1)\n",
    "report2['ToU_p'] = report2.apply(ToU_percentage, axis=1)"
   ]
  },
  {
   "cell_type": "markdown",
   "metadata": {},
   "source": [
    "#### Расчет показывает экономию 4% от среднего значения дневного потребления энегрии по всем классам и всем счетчикам\n",
    "#### Потребление домохозяйств с установленными счетчиками ToU снижено на 8% по сравнению со стандартным Std"
   ]
  },
  {
   "cell_type": "code",
   "execution_count": 19,
   "metadata": {},
   "outputs": [
    {
     "data": {
      "text/html": [
       "<div>\n",
       "<style scoped>\n",
       "    .dataframe tbody tr th:only-of-type {\n",
       "        vertical-align: middle;\n",
       "    }\n",
       "\n",
       "    .dataframe tbody tr th {\n",
       "        vertical-align: top;\n",
       "    }\n",
       "\n",
       "    .dataframe thead th {\n",
       "        text-align: right;\n",
       "    }\n",
       "</style>\n",
       "<table border=\"1\" class=\"dataframe\">\n",
       "  <thead>\n",
       "    <tr style=\"text-align: right;\">\n",
       "      <th>stdorToU</th>\n",
       "      <th>Std_p</th>\n",
       "      <th>ToU_p</th>\n",
       "    </tr>\n",
       "  </thead>\n",
       "  <tbody>\n",
       "    <tr>\n",
       "      <th>avg_power</th>\n",
       "      <td>4.0</td>\n",
       "      <td>-4.0</td>\n",
       "    </tr>\n",
       "  </tbody>\n",
       "</table>\n",
       "</div>"
      ],
      "text/plain": [
       "stdorToU   Std_p  ToU_p\n",
       "avg_power    4.0   -4.0"
      ]
     },
     "execution_count": 19,
     "metadata": {},
     "output_type": "execute_result"
    }
   ],
   "source": [
    "report2[['Std_p', 'ToU_p']]"
   ]
  },
  {
   "cell_type": "code",
   "execution_count": 20,
   "metadata": {},
   "outputs": [
    {
     "data": {
      "text/plain": [
       "stdorToU\n",
       "Std    10.323564\n",
       "ToU     9.531409\n",
       "Name: energy_sum, dtype: float64"
      ]
     },
     "execution_count": 20,
     "metadata": {},
     "output_type": "execute_result"
    }
   ],
   "source": [
    "report"
   ]
  },
  {
   "cell_type": "code",
   "execution_count": 21,
   "metadata": {},
   "outputs": [
    {
     "name": "stdout",
     "output_type": "stream",
     "text": [
      "1222670\n",
      "block_0.csv ^block_0\\..* C:/Users/konst/AnacondaProjects/smart-meters-in-london/halfhourly_dataset\\block_0.csv\n"
     ]
    }
   ],
   "source": [
    "#df_half_h = load_files(['^block_0\\..*', '^block_1\\..*', '^block_2\\..*', '^block_3\\..*'], smart_meters_folder_path2)\n",
    "df_half_h = load_files(['^block_0\\..*'], smart_meters_folder_path2)\n",
    "#df_half_h.info()"
   ]
  },
  {
   "cell_type": "code",
   "execution_count": 22,
   "metadata": {},
   "outputs": [
    {
     "data": {
      "text/plain": [
       "1222670"
      ]
     },
     "execution_count": 22,
     "metadata": {},
     "output_type": "execute_result"
    }
   ],
   "source": [
    "len(df_half_h)"
   ]
  },
  {
   "cell_type": "code",
   "execution_count": 23,
   "metadata": {
    "scrolled": true
   },
   "outputs": [
    {
     "name": "stdout",
     "output_type": "stream",
     "text": [
      "1488465\n",
      "block_2.csv ^block_2.* C:/Users/konst/AnacondaProjects/smart-meters-in-london/halfhourly_dataset\\block_2.csv\n",
      "3219040\n",
      "block_20.csv ^block_2.* C:/Users/konst/AnacondaProjects/smart-meters-in-london/halfhourly_dataset\\block_20.csv\n",
      "4850300\n",
      "block_21.csv ^block_2.* C:/Users/konst/AnacondaProjects/smart-meters-in-london/halfhourly_dataset\\block_21.csv\n",
      "6444181\n",
      "block_22.csv ^block_2.* C:/Users/konst/AnacondaProjects/smart-meters-in-london/halfhourly_dataset\\block_22.csv\n",
      "7871399\n",
      "block_23.csv ^block_2.* C:/Users/konst/AnacondaProjects/smart-meters-in-london/halfhourly_dataset\\block_23.csv\n",
      "9439005\n",
      "block_24.csv ^block_2.* C:/Users/konst/AnacondaProjects/smart-meters-in-london/halfhourly_dataset\\block_24.csv\n",
      "10983502\n",
      "block_25.csv ^block_2.* C:/Users/konst/AnacondaProjects/smart-meters-in-london/halfhourly_dataset\\block_25.csv\n",
      "12421815\n",
      "block_26.csv ^block_2.* C:/Users/konst/AnacondaProjects/smart-meters-in-london/halfhourly_dataset\\block_26.csv\n",
      "14026920\n",
      "block_27.csv ^block_2.* C:/Users/konst/AnacondaProjects/smart-meters-in-london/halfhourly_dataset\\block_27.csv\n",
      "15753984\n",
      "block_28.csv ^block_2.* C:/Users/konst/AnacondaProjects/smart-meters-in-london/halfhourly_dataset\\block_28.csv\n",
      "17371309\n",
      "block_29.csv ^block_2.* C:/Users/konst/AnacondaProjects/smart-meters-in-london/halfhourly_dataset\\block_29.csv\n"
     ]
    }
   ],
   "source": [
    "df_half_h = load_files(['^block_2.*'], smart_meters_folder_path2)\n",
    "# обогащение данных\n",
    "df_hhalf_h_full = df_half_h.merge(df_informations_households, how = 'left', on = 'LCLid')"
   ]
  },
  {
   "cell_type": "code",
   "execution_count": null,
   "metadata": {},
   "outputs": [],
   "source": [
    "#df_hhalf_h_full.loc[:][0:48]['tstp']"
   ]
  },
  {
   "cell_type": "code",
   "execution_count": null,
   "metadata": {
    "scrolled": true
   },
   "outputs": [],
   "source": [
    "# переводит энегрию в числовой формат, для графика\n",
    "def energy_to_numeric(row):\n",
    "    if row['energy(kWh/hh)'] == 'Null':\n",
    "        return 0\n",
    "    return float(row['energy(kWh/hh)'])\n",
    "\n",
    "# переводит время в номер интервала от 0 до 47, очень долгий цикл(\n",
    "def time_to_day_interval(row):\n",
    "    i = 0\n",
    "    for h in ['00','01','02','03','04','05',\n",
    "              '06','07','08','09','10','11',\n",
    "              '12','13','14','15','16','17',\n",
    "              '18','19','20','21','22','23']:\n",
    "        for m in ['00','30']:\n",
    "            if '{}:{}:00.0000000'.format(h,m) in row['tstp']:\n",
    "                return i\n",
    "            i=i+0.5\n",
    "\n",
    "# обрезает строку со временем чтобы можно было сгрупировать по часам\n",
    "def format_time(row):\n",
    "    return row['tstp'][11:16]\n",
    "\n",
    "df_hhalf_h_full['day_int'] = df_hhalf_h_full.apply(time_to_day_interval, axis=1)\n",
    "df_hhalf_h_full['energy'] = df_hhalf_h_full.apply(energy_to_numeric, axis=1)"
   ]
  },
  {
   "cell_type": "code",
   "execution_count": null,
   "metadata": {},
   "outputs": [],
   "source": [
    "df_hhalf_h_full.head()"
   ]
  },
  {
   "cell_type": "code",
   "execution_count": null,
   "metadata": {},
   "outputs": [],
   "source": [
    "df_for_graph = df_hhalf_h_full.groupby(by = ['day_int'], as_index=False)['energy'].mean()"
   ]
  },
  {
   "cell_type": "code",
   "execution_count": 7,
   "metadata": {},
   "outputs": [
    {
     "ename": "NameError",
     "evalue": "name 'df_for_graph' is not defined",
     "output_type": "error",
     "traceback": [
      "\u001b[1;31m---------------------------------------------------------------------------\u001b[0m",
      "\u001b[1;31mNameError\u001b[0m                                 Traceback (most recent call last)",
      "\u001b[1;32m<ipython-input-7-cd714cef250a>\u001b[0m in \u001b[0;36m<module>\u001b[1;34m\u001b[0m\n\u001b[0;32m      1\u001b[0m \u001b[1;31m# График\u001b[0m\u001b[1;33m\u001b[0m\u001b[1;33m\u001b[0m\u001b[1;33m\u001b[0m\u001b[0m\n\u001b[0;32m      2\u001b[0m \u001b[0mplt\u001b[0m\u001b[1;33m.\u001b[0m\u001b[0mfigure\u001b[0m\u001b[1;33m(\u001b[0m\u001b[0mfigsize\u001b[0m\u001b[1;33m=\u001b[0m\u001b[1;33m(\u001b[0m\u001b[1;36m10\u001b[0m\u001b[1;33m,\u001b[0m \u001b[1;36m6\u001b[0m\u001b[1;33m)\u001b[0m\u001b[1;33m)\u001b[0m\u001b[1;33m\u001b[0m\u001b[1;33m\u001b[0m\u001b[0m\n\u001b[1;32m----> 3\u001b[1;33m \u001b[0msns\u001b[0m\u001b[1;33m.\u001b[0m\u001b[0mlineplot\u001b[0m\u001b[1;33m(\u001b[0m\u001b[0mx\u001b[0m\u001b[1;33m=\u001b[0m\u001b[1;34m\"day_int\"\u001b[0m\u001b[1;33m,\u001b[0m \u001b[0my\u001b[0m\u001b[1;33m=\u001b[0m\u001b[1;34m\"energy\"\u001b[0m\u001b[1;33m,\u001b[0m \u001b[0mdata\u001b[0m\u001b[1;33m=\u001b[0m\u001b[0mdf_for_graph\u001b[0m\u001b[1;33m)\u001b[0m\u001b[1;33m\u001b[0m\u001b[1;33m\u001b[0m\u001b[0m\n\u001b[0m",
      "\u001b[1;31mNameError\u001b[0m: name 'df_for_graph' is not defined"
     ]
    },
    {
     "data": {
      "text/plain": [
       "<Figure size 720x432 with 0 Axes>"
      ]
     },
     "metadata": {},
     "output_type": "display_data"
    }
   ],
   "source": [
    "# График\n",
    "plt.figure(figsize=(10, 6))\n",
    "sns.lineplot(x=\"day_int\", y=\"energy\", data=df_for_graph)"
   ]
  },
  {
   "cell_type": "markdown",
   "metadata": {},
   "source": [
    "### Расчет влияния погоды"
   ]
  },
  {
   "cell_type": "code",
   "execution_count": 6,
   "metadata": {},
   "outputs": [
    {
     "data": {
      "text/html": [
       "<div>\n",
       "<style scoped>\n",
       "    .dataframe tbody tr th:only-of-type {\n",
       "        vertical-align: middle;\n",
       "    }\n",
       "\n",
       "    .dataframe tbody tr th {\n",
       "        vertical-align: top;\n",
       "    }\n",
       "\n",
       "    .dataframe thead th {\n",
       "        text-align: right;\n",
       "    }\n",
       "</style>\n",
       "<table border=\"1\" class=\"dataframe\">\n",
       "  <thead>\n",
       "    <tr style=\"text-align: right;\">\n",
       "      <th></th>\n",
       "      <th>apparentTemperature</th>\n",
       "    </tr>\n",
       "    <tr>\n",
       "      <th>day</th>\n",
       "      <th></th>\n",
       "    </tr>\n",
       "  </thead>\n",
       "  <tbody>\n",
       "    <tr>\n",
       "      <th>2011-11-01</th>\n",
       "      <td>14.21</td>\n",
       "    </tr>\n",
       "    <tr>\n",
       "      <th>2011-11-02</th>\n",
       "      <td>15.57</td>\n",
       "    </tr>\n",
       "    <tr>\n",
       "      <th>2011-11-03</th>\n",
       "      <td>16.73</td>\n",
       "    </tr>\n",
       "    <tr>\n",
       "      <th>2011-11-04</th>\n",
       "      <td>17.41</td>\n",
       "    </tr>\n",
       "    <tr>\n",
       "      <th>2011-11-05</th>\n",
       "      <td>15.09</td>\n",
       "    </tr>\n",
       "  </tbody>\n",
       "</table>\n",
       "</div>"
      ],
      "text/plain": [
       "            apparentTemperature\n",
       "day                            \n",
       "2011-11-01                14.21\n",
       "2011-11-02                15.57\n",
       "2011-11-03                16.73\n",
       "2011-11-04                17.41\n",
       "2011-11-05                15.09"
      ]
     },
     "execution_count": 6,
     "metadata": {},
     "output_type": "execute_result"
    }
   ],
   "source": [
    "# Загрузка данных\n",
    "weather = pd.read_csv('{}/weather_hourly_darksky.csv'.format(smart_meters_folder_path1), usecols = [\"time\", \"apparentTemperature\"],  parse_dates = ['time'])\n",
    "\n",
    "# добавление колонки в датасек с округлением до дня\n",
    "weather['day'] = weather['time'].dt.round(\"d\")\n",
    "\n",
    "#\n",
    "weather_min = weather.groupby('day').agg({'apparentTemperature':np.max})\n",
    "#weather_min['day'] = weather_min.apply(lambda row: row.loc('time'), axis=1)\n",
    "weather_min.head()"
   ]
  },
  {
   "cell_type": "code",
   "execution_count": 8,
   "metadata": {},
   "outputs": [
    {
     "data": {
      "text/html": [
       "<div>\n",
       "<style scoped>\n",
       "    .dataframe tbody tr th:only-of-type {\n",
       "        vertical-align: middle;\n",
       "    }\n",
       "\n",
       "    .dataframe tbody tr th {\n",
       "        vertical-align: top;\n",
       "    }\n",
       "\n",
       "    .dataframe thead th {\n",
       "        text-align: right;\n",
       "    }\n",
       "</style>\n",
       "<table border=\"1\" class=\"dataframe\">\n",
       "  <thead>\n",
       "    <tr style=\"text-align: right;\">\n",
       "      <th></th>\n",
       "      <th>time</th>\n",
       "      <th>apparentTemperature</th>\n",
       "      <th>day</th>\n",
       "    </tr>\n",
       "  </thead>\n",
       "  <tbody>\n",
       "    <tr>\n",
       "      <th>0</th>\n",
       "      <td>2011-11-11 00:00:00</td>\n",
       "      <td>10.24</td>\n",
       "      <td>2011-11-11</td>\n",
       "    </tr>\n",
       "    <tr>\n",
       "      <th>1</th>\n",
       "      <td>2011-11-11 01:00:00</td>\n",
       "      <td>8.24</td>\n",
       "      <td>2011-11-11</td>\n",
       "    </tr>\n",
       "    <tr>\n",
       "      <th>2</th>\n",
       "      <td>2011-11-11 02:00:00</td>\n",
       "      <td>7.76</td>\n",
       "      <td>2011-11-11</td>\n",
       "    </tr>\n",
       "    <tr>\n",
       "      <th>3</th>\n",
       "      <td>2011-11-11 03:00:00</td>\n",
       "      <td>7.44</td>\n",
       "      <td>2011-11-11</td>\n",
       "    </tr>\n",
       "    <tr>\n",
       "      <th>4</th>\n",
       "      <td>2011-11-11 04:00:00</td>\n",
       "      <td>7.24</td>\n",
       "      <td>2011-11-11</td>\n",
       "    </tr>\n",
       "  </tbody>\n",
       "</table>\n",
       "</div>"
      ],
      "text/plain": [
       "                 time  apparentTemperature        day\n",
       "0 2011-11-11 00:00:00                10.24 2011-11-11\n",
       "1 2011-11-11 01:00:00                 8.24 2011-11-11\n",
       "2 2011-11-11 02:00:00                 7.76 2011-11-11\n",
       "3 2011-11-11 03:00:00                 7.44 2011-11-11\n",
       "4 2011-11-11 04:00:00                 7.24 2011-11-11"
      ]
     },
     "execution_count": 8,
     "metadata": {},
     "output_type": "execute_result"
    }
   ],
   "source": [
    "weather.head()"
   ]
  },
  {
   "cell_type": "code",
   "execution_count": 17,
   "metadata": {},
   "outputs": [
    {
     "data": {
      "text/html": [
       "<div>\n",
       "<style scoped>\n",
       "    .dataframe tbody tr th:only-of-type {\n",
       "        vertical-align: middle;\n",
       "    }\n",
       "\n",
       "    .dataframe tbody tr th {\n",
       "        vertical-align: top;\n",
       "    }\n",
       "\n",
       "    .dataframe thead th {\n",
       "        text-align: right;\n",
       "    }\n",
       "</style>\n",
       "<table border=\"1\" class=\"dataframe\">\n",
       "  <thead>\n",
       "    <tr style=\"text-align: right;\">\n",
       "      <th></th>\n",
       "      <th>LCLid</th>\n",
       "      <th>day</th>\n",
       "      <th>energy_median</th>\n",
       "      <th>energy_mean</th>\n",
       "      <th>energy_max</th>\n",
       "      <th>energy_count</th>\n",
       "      <th>energy_std</th>\n",
       "      <th>energy_sum</th>\n",
       "      <th>energy_min</th>\n",
       "    </tr>\n",
       "  </thead>\n",
       "  <tbody>\n",
       "    <tr>\n",
       "      <th>0</th>\n",
       "      <td>MAC000131</td>\n",
       "      <td>2011-12-15</td>\n",
       "      <td>0.4850</td>\n",
       "      <td>0.432045</td>\n",
       "      <td>0.868</td>\n",
       "      <td>22</td>\n",
       "      <td>0.239146</td>\n",
       "      <td>9.505</td>\n",
       "      <td>0.072</td>\n",
       "    </tr>\n",
       "    <tr>\n",
       "      <th>1</th>\n",
       "      <td>MAC000131</td>\n",
       "      <td>2011-12-16</td>\n",
       "      <td>0.1415</td>\n",
       "      <td>0.296167</td>\n",
       "      <td>1.116</td>\n",
       "      <td>48</td>\n",
       "      <td>0.281471</td>\n",
       "      <td>14.216</td>\n",
       "      <td>0.031</td>\n",
       "    </tr>\n",
       "    <tr>\n",
       "      <th>2</th>\n",
       "      <td>MAC000131</td>\n",
       "      <td>2011-12-17</td>\n",
       "      <td>0.1015</td>\n",
       "      <td>0.189812</td>\n",
       "      <td>0.685</td>\n",
       "      <td>48</td>\n",
       "      <td>0.188405</td>\n",
       "      <td>9.111</td>\n",
       "      <td>0.064</td>\n",
       "    </tr>\n",
       "    <tr>\n",
       "      <th>3</th>\n",
       "      <td>MAC000131</td>\n",
       "      <td>2011-12-18</td>\n",
       "      <td>0.1140</td>\n",
       "      <td>0.218979</td>\n",
       "      <td>0.676</td>\n",
       "      <td>48</td>\n",
       "      <td>0.202919</td>\n",
       "      <td>10.511</td>\n",
       "      <td>0.065</td>\n",
       "    </tr>\n",
       "    <tr>\n",
       "      <th>4</th>\n",
       "      <td>MAC000131</td>\n",
       "      <td>2011-12-19</td>\n",
       "      <td>0.1910</td>\n",
       "      <td>0.325979</td>\n",
       "      <td>0.788</td>\n",
       "      <td>48</td>\n",
       "      <td>0.259205</td>\n",
       "      <td>15.647</td>\n",
       "      <td>0.066</td>\n",
       "    </tr>\n",
       "  </tbody>\n",
       "</table>\n",
       "</div>"
      ],
      "text/plain": [
       "       LCLid        day  energy_median  energy_mean  energy_max  energy_count  \\\n",
       "0  MAC000131 2011-12-15         0.4850     0.432045       0.868            22   \n",
       "1  MAC000131 2011-12-16         0.1415     0.296167       1.116            48   \n",
       "2  MAC000131 2011-12-17         0.1015     0.189812       0.685            48   \n",
       "3  MAC000131 2011-12-18         0.1140     0.218979       0.676            48   \n",
       "4  MAC000131 2011-12-19         0.1910     0.325979       0.788            48   \n",
       "\n",
       "   energy_std  energy_sum  energy_min  \n",
       "0    0.239146       9.505       0.072  \n",
       "1    0.281471      14.216       0.031  \n",
       "2    0.188405       9.111       0.064  \n",
       "3    0.202919      10.511       0.065  \n",
       "4    0.259205      15.647       0.066  "
      ]
     },
     "execution_count": 17,
     "metadata": {},
     "output_type": "execute_result"
    }
   ],
   "source": [
    "df_daily_dataset.head()"
   ]
  },
  {
   "cell_type": "code",
   "execution_count": 53,
   "metadata": {},
   "outputs": [],
   "source": [
    "daily_dataset_for_weather = df_daily_dataset[\n",
    "    (daily_dataset_with_hh_info['energy_count'] == 48) &\n",
    "    (daily_dataset_with_hh_info['Acorn'] != 'ACORN-')\n",
    "].groupby('day').agg({'energy_sum':np.mean})\n",
    "weather_mean = weather.groupby('day').agg({'apparentTemperature':np.mean})"
   ]
  },
  {
   "cell_type": "code",
   "execution_count": 54,
   "metadata": {},
   "outputs": [
    {
     "data": {
      "text/html": [
       "<div>\n",
       "<style scoped>\n",
       "    .dataframe tbody tr th:only-of-type {\n",
       "        vertical-align: middle;\n",
       "    }\n",
       "\n",
       "    .dataframe tbody tr th {\n",
       "        vertical-align: top;\n",
       "    }\n",
       "\n",
       "    .dataframe thead th {\n",
       "        text-align: right;\n",
       "    }\n",
       "</style>\n",
       "<table border=\"1\" class=\"dataframe\">\n",
       "  <thead>\n",
       "    <tr style=\"text-align: right;\">\n",
       "      <th></th>\n",
       "      <th>energy_sum</th>\n",
       "    </tr>\n",
       "    <tr>\n",
       "      <th>day</th>\n",
       "      <th></th>\n",
       "    </tr>\n",
       "  </thead>\n",
       "  <tbody>\n",
       "    <tr>\n",
       "      <th>2011-11-24</th>\n",
       "      <td>10.728615</td>\n",
       "    </tr>\n",
       "    <tr>\n",
       "      <th>2011-11-25</th>\n",
       "      <td>10.182200</td>\n",
       "    </tr>\n",
       "    <tr>\n",
       "      <th>2011-11-26</th>\n",
       "      <td>10.610687</td>\n",
       "    </tr>\n",
       "    <tr>\n",
       "      <th>2011-11-27</th>\n",
       "      <td>10.850805</td>\n",
       "    </tr>\n",
       "    <tr>\n",
       "      <th>2011-11-28</th>\n",
       "      <td>10.105561</td>\n",
       "    </tr>\n",
       "  </tbody>\n",
       "</table>\n",
       "</div>"
      ],
      "text/plain": [
       "            energy_sum\n",
       "day                   \n",
       "2011-11-24   10.728615\n",
       "2011-11-25   10.182200\n",
       "2011-11-26   10.610687\n",
       "2011-11-27   10.850805\n",
       "2011-11-28   10.105561"
      ]
     },
     "execution_count": 54,
     "metadata": {},
     "output_type": "execute_result"
    }
   ],
   "source": [
    "daily_dataset_for_weather.head()"
   ]
  },
  {
   "cell_type": "code",
   "execution_count": 56,
   "metadata": {},
   "outputs": [],
   "source": [
    "en_weather = daily_dataset_for_weather.merge(weather_mean, how = 'left', on = 'day')"
   ]
  },
  {
   "cell_type": "code",
   "execution_count": 57,
   "metadata": {},
   "outputs": [
    {
     "data": {
      "text/plain": [
       "<matplotlib.axes._subplots.AxesSubplot at 0x23b000d64e0>"
      ]
     },
     "execution_count": 57,
     "metadata": {},
     "output_type": "execute_result"
    },
    {
     "data": {
      "image/png": "[encoded data removed]",
      "text/plain": [
       "<Figure size 720x432 with 1 Axes>"
      ]
     },
     "metadata": {
      "needs_background": "light"
     },
     "output_type": "display_data"
    }
   ],
   "source": [
    "plt.figure(figsize=(10, 6))\n",
    "sns.lineplot(x=\"apparentTemperature\", y=\"energy_sum\", data=en_weather)"
   ]
  }
 ],
 "metadata": {
  "kernelspec": {
   "display_name": "Python 3",
   "language": "python",
   "name": "python3"
  },
  "language_info": {
   "codemirror_mode": {
    "name": "ipython",
    "version": 3
   },
   "file_extension": ".py",
   "mimetype": "text/x-python",
   "name": "python",
   "nbconvert_exporter": "python",
   "pygments_lexer": "ipython3",
   "version": "3.7.1"
  }
 },
 "nbformat": 4,
 "nbformat_minor": 2
}
