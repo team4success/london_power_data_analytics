{
 "cells": [
  {
   "cell_type": "markdown",
   "metadata": {},
   "source": [
    "- Факторы которые влияют на энергопотребление? - почему?\n",
    "- найти факторы и сделать рейтинг факторов\n",
    "- Один дом, один файл.\n",
    "- PDF и код юпитера\n",
    "- К репозиторию файл README\n"
   ]
  },
  {
   "cell_type": "markdown",
   "metadata": {},
   "source": [
    "### Инициализация и загрузка данных"
   ]
  },
  {
   "cell_type": "code",
   "execution_count": 1,
   "metadata": {
    "scrolled": true
   },
   "outputs": [],
   "source": [
    "import os\n",
    "import pandas as pd\n",
    "import re\n",
    "import seaborn as sns\n",
    "import numpy as np\n",
    "import matplotlib.pyplot as plt\n",
    "import cufflinks as cf\n",
    "from plotly.offline import download_plotlyjs, init_notebook_mode, plot, iplot\n",
    "\n",
    "# Для отладки\n",
    "set_debug = True\n",
    "\n",
    "# Небольшой код который сам ищет необходимые файлы на компьютере\n",
    "# Достаточно установить пути где данные файлы могут находится\n",
    "# Файлы которые нужно искать\n",
    "# Ипапка в которых располагается статистика \n",
    "\n",
    "# Пути к файлам данных\n",
    "\n",
    "# smart_meters_folder_path1 = 'Y:/temp/AnacondaProjects/smart-meters-in-london'\n",
    "smart_meters_folder_path1 = 'Z:/temp/AnacondaProjects/smart-meters-in-london'\n",
    "\n",
    "daily_dataset_file = '{}/daily_dataset.csv/daily_dataset.csv'.format(smart_meters_folder_path1)\n",
    "informations_households_file = '{}/informations_households.csv'.format(smart_meters_folder_path1)\n",
    "weather_hourly_darksky_file = '{}/weather_hourly_darksky.csv'.format(smart_meters_folder_path1)\n",
    "\n",
    "halfhourly_dataset_folder = 'C:/Users/konst/Desktop/halfhourly_dataset'\n",
    "# halfhourly_dataset_folder = 'C:/Users/konst/AnacondaProjects/smart-meters-in-london/halfhourly_dataset'\n",
    "\n",
    "\n",
    "# Для переключения режима отладки, выводит если set_debug == True\n",
    "def debug(*args, **kwargs):\n",
    "    if set_debug is True:\n",
    "        print(*args, **kwargs)\n",
    "\n",
    "# Функция загружает файлы, на вход подается список файлов и директория, на выходе склеенный датафрейм\n",
    "# пример: df_informations_households = load_files(['^informations_households.csv$'], smart_meters_folder_path1)\n",
    "def load_files(l_files, directory, names=None):\n",
    "    data = pd.DataFrame()\n",
    "    for root, dirs, files in os.walk(directory):\n",
    "        for l_file in l_files:\n",
    "            for file in files:\n",
    "                if re.search(l_file, file):\n",
    "                    temp = pd.read_csv(os.path.join(root, file), encoding='ANSI', names = names)\n",
    "                    data = pd.concat([data, temp])\n",
    "                    debug(len(data))\n",
    "                    debug(file, l_file, os.path.join(root, file))\n",
    "    return data"
   ]
  },
  {
   "cell_type": "code",
   "execution_count": 2,
   "metadata": {},
   "outputs": [],
   "source": [
    "# Загрузка файлов в Pandas\n",
    "#df_acorn_details = load_files(['^acorn_details.csv$'], smart_meters_folder_path1)\n",
    "#df_uk_bank_holidays = load_files(['^uk_bank_holidays.csv$'], smart_meters_folder_path1)\n",
    "#df_weather_daily_darksky = load_files(['^weather_daily_darksky.csv$'], smart_meters_folder_path1)\n",
    "#df_weather_hourly_darksky = load_files(['^weather_hourly_darksky.csv$'], smart_meters_folder_path1)\n",
    "\n",
    "# Информация о датчиках энергопотребления и краткие сведения о домах, в которых эти датчики установлены. Столбцы датафреима:\n",
    "# LCLid – id датчика;\n",
    "# stdorToU – форма оплаты за электроэнергию в доме, в котором установлен датчик (Std –\n",
    "# стандартная, ToU – оплата зависит от времени суток);\n",
    "# Acorn, Acorn_grouped – информация о том, к какой категории потребителей по системе ACORN относится семья, проживающая в данном доме;\n",
    "# file – имя фаила, содержащего показатели счетчиков.\n",
    "df_informations_households = pd.read_csv(informations_households_file)\n",
    "\n",
    "# Архив содержит 112 фаилов, содержащих обобщенные данные об энергопотреблении за каждые сутки.\n",
    "# Каждый фаил содержит информацию с датчиков, установленных в одном доме. Столбцы датафреима:\n",
    "# LCLid – id датчика;\n",
    "# day – дата;\n",
    "# energy_median – медиана суточных показателей;\n",
    "# energy_mean – среднее арифметическое суточных показателей;\n",
    "# energy_max – максимальное значение энергопотребления, зафиксированное датчиком в течение дня;\n",
    "# energy_count – количество показателей, зафиксированных датчиком в течение дня;\n",
    "# energy_std – стандартное отклонение;\n",
    "# energy_sum – сумма значений всех показателей;\n",
    "# energy_min – минимальное значение энергопотребления, зафиксированное датчиком в течение дня.\n",
    "# df_daily_dataset = load_files(['^daily_dataset.csv$'], smart_meters_folder_path1)\n",
    "df_daily_dataset = pd.read_csv(daily_dataset_file,  parse_dates = ['day'])"
   ]
  },
  {
   "cell_type": "markdown",
   "metadata": {},
   "source": [
    "### Информация о загруженных данных"
   ]
  },
  {
   "cell_type": "code",
   "execution_count": 3,
   "metadata": {},
   "outputs": [
    {
     "name": "stdout",
     "output_type": "stream",
     "text": [
      "<class 'pandas.core.frame.DataFrame'>\n",
      "RangeIndex: 5566 entries, 0 to 5565\n",
      "Data columns (total 5 columns):\n",
      "LCLid            5566 non-null object\n",
      "stdorToU         5566 non-null object\n",
      "Acorn            5566 non-null object\n",
      "Acorn_grouped    5566 non-null object\n",
      "file             5566 non-null object\n",
      "dtypes: object(5)\n",
      "memory usage: 217.5+ KB\n"
     ]
    }
   ],
   "source": [
    "df_informations_households.info()"
   ]
  },
  {
   "cell_type": "code",
   "execution_count": 4,
   "metadata": {},
   "outputs": [
    {
     "name": "stdout",
     "output_type": "stream",
     "text": [
      "<class 'pandas.core.frame.DataFrame'>\n",
      "RangeIndex: 3510433 entries, 0 to 3510432\n",
      "Data columns (total 9 columns):\n",
      "LCLid            object\n",
      "day              datetime64[ns]\n",
      "energy_median    float64\n",
      "energy_mean      float64\n",
      "energy_max       float64\n",
      "energy_count     int64\n",
      "energy_std       float64\n",
      "energy_sum       float64\n",
      "energy_min       float64\n",
      "dtypes: datetime64[ns](1), float64(6), int64(1), object(1)\n",
      "memory usage: 241.0+ MB\n"
     ]
    }
   ],
   "source": [
    "df_daily_dataset.info()"
   ]
  },
  {
   "cell_type": "markdown",
   "metadata": {},
   "source": [
    "### Определение типа счетчика в зависимости от класса ACORN\n",
    "Получение процентного соотношения ToU/Std в зависимости от класса"
   ]
  },
  {
   "cell_type": "code",
   "execution_count": 5,
   "metadata": {},
   "outputs": [],
   "source": [
    "# выдает 1 если счетчик ToU\n",
    "def count_ToU(row):\n",
    "    if row['stdorToU'] == 'ToU':\n",
    "        return 1\n",
    "    return 0\n",
    "\n",
    "# выдает 1 если счетчик Std\n",
    "def count_Std(row):\n",
    "    if row['stdorToU'] == 'Std':\n",
    "        return 1\n",
    "    return 0\n",
    "\n",
    "def ToU_percentage(row):\n",
    "    return round((row['ToU'] / (row['ToU'] + row['Std']))*100,1)"
   ]
  },
  {
   "cell_type": "code",
   "execution_count": 6,
   "metadata": {},
   "outputs": [
    {
     "data": {
      "text/html": [
       "<div>\n",
       "<style scoped>\n",
       "    .dataframe tbody tr th:only-of-type {\n",
       "        vertical-align: middle;\n",
       "    }\n",
       "\n",
       "    .dataframe tbody tr th {\n",
       "        vertical-align: top;\n",
       "    }\n",
       "\n",
       "    .dataframe thead th {\n",
       "        text-align: right;\n",
       "    }\n",
       "</style>\n",
       "<table border=\"1\" class=\"dataframe\">\n",
       "  <thead>\n",
       "    <tr style=\"text-align: right;\">\n",
       "      <th></th>\n",
       "      <th>LCLid</th>\n",
       "      <th>stdorToU</th>\n",
       "      <th>Acorn</th>\n",
       "      <th>Acorn_grouped</th>\n",
       "      <th>file</th>\n",
       "    </tr>\n",
       "  </thead>\n",
       "  <tbody>\n",
       "    <tr>\n",
       "      <th>0</th>\n",
       "      <td>MAC005492</td>\n",
       "      <td>ToU</td>\n",
       "      <td>ACORN-</td>\n",
       "      <td>ACORN-</td>\n",
       "      <td>block_0</td>\n",
       "    </tr>\n",
       "    <tr>\n",
       "      <th>1</th>\n",
       "      <td>MAC001074</td>\n",
       "      <td>ToU</td>\n",
       "      <td>ACORN-</td>\n",
       "      <td>ACORN-</td>\n",
       "      <td>block_0</td>\n",
       "    </tr>\n",
       "    <tr>\n",
       "      <th>2</th>\n",
       "      <td>MAC000002</td>\n",
       "      <td>Std</td>\n",
       "      <td>ACORN-A</td>\n",
       "      <td>Affluent</td>\n",
       "      <td>block_0</td>\n",
       "    </tr>\n",
       "    <tr>\n",
       "      <th>3</th>\n",
       "      <td>MAC003613</td>\n",
       "      <td>Std</td>\n",
       "      <td>ACORN-A</td>\n",
       "      <td>Affluent</td>\n",
       "      <td>block_0</td>\n",
       "    </tr>\n",
       "    <tr>\n",
       "      <th>4</th>\n",
       "      <td>MAC003597</td>\n",
       "      <td>Std</td>\n",
       "      <td>ACORN-A</td>\n",
       "      <td>Affluent</td>\n",
       "      <td>block_0</td>\n",
       "    </tr>\n",
       "  </tbody>\n",
       "</table>\n",
       "</div>"
      ],
      "text/plain": [
       "       LCLid stdorToU    Acorn Acorn_grouped     file\n",
       "0  MAC005492      ToU   ACORN-        ACORN-  block_0\n",
       "1  MAC001074      ToU   ACORN-        ACORN-  block_0\n",
       "2  MAC000002      Std  ACORN-A      Affluent  block_0\n",
       "3  MAC003613      Std  ACORN-A      Affluent  block_0\n",
       "4  MAC003597      Std  ACORN-A      Affluent  block_0"
      ]
     },
     "execution_count": 6,
     "metadata": {},
     "output_type": "execute_result"
    }
   ],
   "source": [
    "df_informations_households.head()"
   ]
  },
  {
   "cell_type": "code",
   "execution_count": 7,
   "metadata": {},
   "outputs": [
    {
     "data": {
      "text/html": [
       "<div>\n",
       "<style scoped>\n",
       "    .dataframe tbody tr th:only-of-type {\n",
       "        vertical-align: middle;\n",
       "    }\n",
       "\n",
       "    .dataframe tbody tr th {\n",
       "        vertical-align: top;\n",
       "    }\n",
       "\n",
       "    .dataframe thead th {\n",
       "        text-align: right;\n",
       "    }\n",
       "</style>\n",
       "<table border=\"1\" class=\"dataframe\">\n",
       "  <thead>\n",
       "    <tr style=\"text-align: right;\">\n",
       "      <th></th>\n",
       "      <th>LCLid</th>\n",
       "      <th>stdorToU</th>\n",
       "      <th>Acorn</th>\n",
       "      <th>Acorn_grouped</th>\n",
       "      <th>file</th>\n",
       "      <th>ToU</th>\n",
       "      <th>Std</th>\n",
       "    </tr>\n",
       "  </thead>\n",
       "  <tbody>\n",
       "    <tr>\n",
       "      <th>0</th>\n",
       "      <td>MAC005492</td>\n",
       "      <td>ToU</td>\n",
       "      <td>ACORN-</td>\n",
       "      <td>ACORN-</td>\n",
       "      <td>block_0</td>\n",
       "      <td>1</td>\n",
       "      <td>0</td>\n",
       "    </tr>\n",
       "  </tbody>\n",
       "</table>\n",
       "</div>"
      ],
      "text/plain": [
       "       LCLid stdorToU   Acorn Acorn_grouped     file  ToU  Std\n",
       "0  MAC005492      ToU  ACORN-        ACORN-  block_0    1    0"
      ]
     },
     "execution_count": 7,
     "metadata": {},
     "output_type": "execute_result"
    }
   ],
   "source": [
    "# Изменяем таблицу df_informations_households так, чтобы тип счетчика был в раздельных столбцах ToU Std\n",
    "# Обогащение нужными нам данными\n",
    "df_informations_households['ToU'] = df_informations_households.apply(count_ToU, axis=1)\n",
    "df_informations_households['Std'] = df_informations_households.apply(count_Std, axis=1)\n",
    "df_informations_households.head(1)"
   ]
  },
  {
   "cell_type": "code",
   "execution_count": 8,
   "metadata": {},
   "outputs": [],
   "source": [
    "# Группируем с нахождением кол-ва типов счетчиков для каждого класса\n",
    "counter_type_stats = df_informations_households.groupby(by = 'Acorn', as_index=False)['ToU', 'Std'].sum()\n",
    "\n",
    "# Вычесляем процент установленных счетчиков ToU\n",
    "counter_type_stats['ToU_perc'] = counter_type_stats.apply(ToU_percentage, axis=1)"
   ]
  },
  {
   "cell_type": "markdown",
   "metadata": {},
   "source": [
    "### Процент счетчиков ToU в зависимости от класса"
   ]
  },
  {
   "cell_type": "code",
   "execution_count": 9,
   "metadata": {
    "scrolled": false
   },
   "outputs": [
    {
     "data": {
      "text/plain": [
       "<matplotlib.axes._subplots.AxesSubplot at 0x195e1746a90>"
      ]
     },
     "execution_count": 9,
     "metadata": {},
     "output_type": "execute_result"
    },
    {
     "data": {
      "image/png": "[encoded data removed]",
      "text/plain": [
       "<Figure size 720x432 with 1 Axes>"
      ]
     },
     "metadata": {
      "needs_background": "light"
     },
     "output_type": "display_data"
    }
   ],
   "source": [
    "# Строим график\n",
    "plt.figure(figsize=(10, 6))\n",
    "sns.barplot(x = 'ToU_perc', y = 'Acorn', color='gray', data = counter_type_stats[counter_type_stats['Acorn'] != 'ACORN-'])"
   ]
  },
  {
   "cell_type": "markdown",
   "metadata": {},
   "source": [
    "### Расчет среднего потребления энергии в зависимости от класса"
   ]
  },
  {
   "cell_type": "code",
   "execution_count": 10,
   "metadata": {},
   "outputs": [],
   "source": [
    "# обогащение данных\n",
    "daily_dataset_with_hh_info = df_daily_dataset.merge(df_informations_households, how = 'left', on = 'LCLid')"
   ]
  },
  {
   "cell_type": "code",
   "execution_count": 11,
   "metadata": {},
   "outputs": [
    {
     "data": {
      "text/html": [
       "<div>\n",
       "<style scoped>\n",
       "    .dataframe tbody tr th:only-of-type {\n",
       "        vertical-align: middle;\n",
       "    }\n",
       "\n",
       "    .dataframe tbody tr th {\n",
       "        vertical-align: top;\n",
       "    }\n",
       "\n",
       "    .dataframe thead th {\n",
       "        text-align: right;\n",
       "    }\n",
       "</style>\n",
       "<table border=\"1\" class=\"dataframe\">\n",
       "  <thead>\n",
       "    <tr style=\"text-align: right;\">\n",
       "      <th></th>\n",
       "      <th>min</th>\n",
       "      <th>max</th>\n",
       "    </tr>\n",
       "    <tr>\n",
       "      <th>Acorn</th>\n",
       "      <th></th>\n",
       "      <th></th>\n",
       "    </tr>\n",
       "  </thead>\n",
       "  <tbody>\n",
       "    <tr>\n",
       "      <th>ACORN-</th>\n",
       "      <td>2012-04-18</td>\n",
       "      <td>2014-02-27</td>\n",
       "    </tr>\n",
       "    <tr>\n",
       "      <th>ACORN-A</th>\n",
       "      <td>2011-12-04</td>\n",
       "      <td>2014-02-27</td>\n",
       "    </tr>\n",
       "    <tr>\n",
       "      <th>ACORN-B</th>\n",
       "      <td>2011-12-24</td>\n",
       "      <td>2014-02-27</td>\n",
       "    </tr>\n",
       "    <tr>\n",
       "      <th>ACORN-C</th>\n",
       "      <td>2011-12-07</td>\n",
       "      <td>2014-02-27</td>\n",
       "    </tr>\n",
       "    <tr>\n",
       "      <th>ACORN-D</th>\n",
       "      <td>2011-11-24</td>\n",
       "      <td>2014-02-27</td>\n",
       "    </tr>\n",
       "    <tr>\n",
       "      <th>ACORN-E</th>\n",
       "      <td>2011-11-24</td>\n",
       "      <td>2014-02-27</td>\n",
       "    </tr>\n",
       "    <tr>\n",
       "      <th>ACORN-F</th>\n",
       "      <td>2011-11-24</td>\n",
       "      <td>2014-02-27</td>\n",
       "    </tr>\n",
       "    <tr>\n",
       "      <th>ACORN-G</th>\n",
       "      <td>2011-11-24</td>\n",
       "      <td>2014-02-27</td>\n",
       "    </tr>\n",
       "    <tr>\n",
       "      <th>ACORN-H</th>\n",
       "      <td>2011-11-25</td>\n",
       "      <td>2014-02-27</td>\n",
       "    </tr>\n",
       "    <tr>\n",
       "      <th>ACORN-I</th>\n",
       "      <td>2012-01-24</td>\n",
       "      <td>2014-02-27</td>\n",
       "    </tr>\n",
       "    <tr>\n",
       "      <th>ACORN-J</th>\n",
       "      <td>2011-12-08</td>\n",
       "      <td>2014-02-27</td>\n",
       "    </tr>\n",
       "    <tr>\n",
       "      <th>ACORN-K</th>\n",
       "      <td>2011-11-29</td>\n",
       "      <td>2014-02-27</td>\n",
       "    </tr>\n",
       "    <tr>\n",
       "      <th>ACORN-L</th>\n",
       "      <td>2011-11-24</td>\n",
       "      <td>2014-02-27</td>\n",
       "    </tr>\n",
       "    <tr>\n",
       "      <th>ACORN-M</th>\n",
       "      <td>2011-12-15</td>\n",
       "      <td>2014-02-27</td>\n",
       "    </tr>\n",
       "    <tr>\n",
       "      <th>ACORN-N</th>\n",
       "      <td>2011-12-09</td>\n",
       "      <td>2014-02-27</td>\n",
       "    </tr>\n",
       "    <tr>\n",
       "      <th>ACORN-O</th>\n",
       "      <td>2011-11-26</td>\n",
       "      <td>2014-02-27</td>\n",
       "    </tr>\n",
       "    <tr>\n",
       "      <th>ACORN-P</th>\n",
       "      <td>2011-12-08</td>\n",
       "      <td>2014-02-27</td>\n",
       "    </tr>\n",
       "    <tr>\n",
       "      <th>ACORN-Q</th>\n",
       "      <td>2011-11-24</td>\n",
       "      <td>2014-02-27</td>\n",
       "    </tr>\n",
       "    <tr>\n",
       "      <th>ACORN-U</th>\n",
       "      <td>2011-12-08</td>\n",
       "      <td>2014-02-27</td>\n",
       "    </tr>\n",
       "  </tbody>\n",
       "</table>\n",
       "</div>"
      ],
      "text/plain": [
       "               min        max\n",
       "Acorn                        \n",
       "ACORN-  2012-04-18 2014-02-27\n",
       "ACORN-A 2011-12-04 2014-02-27\n",
       "ACORN-B 2011-12-24 2014-02-27\n",
       "ACORN-C 2011-12-07 2014-02-27\n",
       "ACORN-D 2011-11-24 2014-02-27\n",
       "ACORN-E 2011-11-24 2014-02-27\n",
       "ACORN-F 2011-11-24 2014-02-27\n",
       "ACORN-G 2011-11-24 2014-02-27\n",
       "ACORN-H 2011-11-25 2014-02-27\n",
       "ACORN-I 2012-01-24 2014-02-27\n",
       "ACORN-J 2011-12-08 2014-02-27\n",
       "ACORN-K 2011-11-29 2014-02-27\n",
       "ACORN-L 2011-11-24 2014-02-27\n",
       "ACORN-M 2011-12-15 2014-02-27\n",
       "ACORN-N 2011-12-09 2014-02-27\n",
       "ACORN-O 2011-11-26 2014-02-27\n",
       "ACORN-P 2011-12-08 2014-02-27\n",
       "ACORN-Q 2011-11-24 2014-02-27\n",
       "ACORN-U 2011-12-08 2014-02-27"
      ]
     },
     "execution_count": 11,
     "metadata": {},
     "output_type": "execute_result"
    }
   ],
   "source": [
    "# Просмотр минимальных и максимальных дат по каждому классу для того чтобы определить насколько полные данные нам предоставлены\n",
    "daily_dataset_with_hh_info[ daily_dataset_with_hh_info['energy_count'] == 48][['Acorn', 'day']]\\\n",
    ".groupby(by = 'Acorn')['day'].agg([min, max])"
   ]
  },
  {
   "cell_type": "code",
   "execution_count": 12,
   "metadata": {},
   "outputs": [
    {
     "data": {
      "text/plain": [
       "<matplotlib.axes._subplots.AxesSubplot at 0x195d8460b38>"
      ]
     },
     "execution_count": 12,
     "metadata": {},
     "output_type": "execute_result"
    },
    {
     "data": {
      "image/png": "[encoded data removed]",
      "text/plain": [
       "<Figure size 720x432 with 1 Axes>"
      ]
     },
     "metadata": {
      "needs_background": "light"
     },
     "output_type": "display_data"
    }
   ],
   "source": [
    "# График среднего энегропотребления в зависимости от класса\n",
    "plt.figure(figsize=(10, 6))\n",
    "sns.barplot(\n",
    "    x = 'energy_sum',\n",
    "    y = 'Acorn',\n",
    "    color='gray',\n",
    "    data = daily_dataset_with_hh_info[ daily_dataset_with_hh_info['energy_count'] == 48]\\\n",
    "    .groupby(by = 'Acorn', as_index=False).agg({'energy_sum':np.mean})\n",
    ")"
   ]
  },
  {
   "cell_type": "code",
   "execution_count": 13,
   "metadata": {},
   "outputs": [
    {
     "data": {
      "text/html": [
       "<div>\n",
       "<style scoped>\n",
       "    .dataframe tbody tr th:only-of-type {\n",
       "        vertical-align: middle;\n",
       "    }\n",
       "\n",
       "    .dataframe tbody tr th {\n",
       "        vertical-align: top;\n",
       "    }\n",
       "\n",
       "    .dataframe thead th {\n",
       "        text-align: right;\n",
       "    }\n",
       "</style>\n",
       "<table border=\"1\" class=\"dataframe\">\n",
       "  <thead>\n",
       "    <tr style=\"text-align: right;\">\n",
       "      <th></th>\n",
       "      <th>Acorn</th>\n",
       "      <th>day</th>\n",
       "    </tr>\n",
       "  </thead>\n",
       "  <tbody>\n",
       "    <tr>\n",
       "      <th>0</th>\n",
       "      <td>ACORN-</td>\n",
       "      <td>771</td>\n",
       "    </tr>\n",
       "    <tr>\n",
       "      <th>1</th>\n",
       "      <td>ACORN-A</td>\n",
       "      <td>91872</td>\n",
       "    </tr>\n",
       "    <tr>\n",
       "      <th>2</th>\n",
       "      <td>ACORN-B</td>\n",
       "      <td>14321</td>\n",
       "    </tr>\n",
       "    <tr>\n",
       "      <th>3</th>\n",
       "      <td>ACORN-C</td>\n",
       "      <td>87783</td>\n",
       "    </tr>\n",
       "    <tr>\n",
       "      <th>4</th>\n",
       "      <td>ACORN-D</td>\n",
       "      <td>186880</td>\n",
       "    </tr>\n",
       "    <tr>\n",
       "      <th>5</th>\n",
       "      <td>ACORN-E</td>\n",
       "      <td>1011407</td>\n",
       "    </tr>\n",
       "    <tr>\n",
       "      <th>6</th>\n",
       "      <td>ACORN-F</td>\n",
       "      <td>441804</td>\n",
       "    </tr>\n",
       "    <tr>\n",
       "      <th>7</th>\n",
       "      <td>ACORN-G</td>\n",
       "      <td>122381</td>\n",
       "    </tr>\n",
       "    <tr>\n",
       "      <th>8</th>\n",
       "      <td>ACORN-H</td>\n",
       "      <td>268989</td>\n",
       "    </tr>\n",
       "    <tr>\n",
       "      <th>9</th>\n",
       "      <td>ACORN-I</td>\n",
       "      <td>29120</td>\n",
       "    </tr>\n",
       "    <tr>\n",
       "      <th>10</th>\n",
       "      <td>ACORN-J</td>\n",
       "      <td>64043</td>\n",
       "    </tr>\n",
       "    <tr>\n",
       "      <th>11</th>\n",
       "      <td>ACORN-K</td>\n",
       "      <td>105129</td>\n",
       "    </tr>\n",
       "    <tr>\n",
       "      <th>12</th>\n",
       "      <td>ACORN-L</td>\n",
       "      <td>201723</td>\n",
       "    </tr>\n",
       "    <tr>\n",
       "      <th>13</th>\n",
       "      <td>ACORN-M</td>\n",
       "      <td>65461</td>\n",
       "    </tr>\n",
       "    <tr>\n",
       "      <th>14</th>\n",
       "      <td>ACORN-N</td>\n",
       "      <td>90803</td>\n",
       "    </tr>\n",
       "    <tr>\n",
       "      <th>15</th>\n",
       "      <td>ACORN-O</td>\n",
       "      <td>60135</td>\n",
       "    </tr>\n",
       "    <tr>\n",
       "      <th>16</th>\n",
       "      <td>ACORN-P</td>\n",
       "      <td>71297</td>\n",
       "    </tr>\n",
       "    <tr>\n",
       "      <th>17</th>\n",
       "      <td>ACORN-Q</td>\n",
       "      <td>526266</td>\n",
       "    </tr>\n",
       "    <tr>\n",
       "      <th>18</th>\n",
       "      <td>ACORN-U</td>\n",
       "      <td>29167</td>\n",
       "    </tr>\n",
       "  </tbody>\n",
       "</table>\n",
       "</div>"
      ],
      "text/plain": [
       "      Acorn      day\n",
       "0    ACORN-      771\n",
       "1   ACORN-A    91872\n",
       "2   ACORN-B    14321\n",
       "3   ACORN-C    87783\n",
       "4   ACORN-D   186880\n",
       "5   ACORN-E  1011407\n",
       "6   ACORN-F   441804\n",
       "7   ACORN-G   122381\n",
       "8   ACORN-H   268989\n",
       "9   ACORN-I    29120\n",
       "10  ACORN-J    64043\n",
       "11  ACORN-K   105129\n",
       "12  ACORN-L   201723\n",
       "13  ACORN-M    65461\n",
       "14  ACORN-N    90803\n",
       "15  ACORN-O    60135\n",
       "16  ACORN-P    71297\n",
       "17  ACORN-Q   526266\n",
       "18  ACORN-U    29167"
      ]
     },
     "execution_count": 13,
     "metadata": {},
     "output_type": "execute_result"
    }
   ],
   "source": [
    "# Просмотр кол-ва счетчиков в каждом классе, для оценки предоставленных данных \n",
    "daily_dataset_with_hh_info[ daily_dataset_with_hh_info['energy_count'] == 48][['Acorn', 'day']]\\\n",
    ".groupby(by = 'Acorn', as_index=False)['day'].count()"
   ]
  },
  {
   "cell_type": "code",
   "execution_count": 14,
   "metadata": {},
   "outputs": [
    {
     "name": "stderr",
     "output_type": "stream",
     "text": [
      "C:\\Users\\konst\\Anaconda3\\lib\\site-packages\\scipy\\stats\\stats.py:1713: FutureWarning:\n",
      "\n",
      "Using a non-tuple sequence for multidimensional indexing is deprecated; use `arr[tuple(seq)]` instead of `arr[seq]`. In the future this will be interpreted as an array index, `arr[np.array(seq)]`, which will result either in an error or a different result.\n",
      "\n"
     ]
    },
    {
     "data": {
      "image/png": "[encoded data removed]",
      "text/plain": [
       "<Figure size 432x288 with 1 Axes>"
      ]
     },
     "metadata": {
      "needs_background": "light"
     },
     "output_type": "display_data"
    }
   ],
   "source": [
    "# Смотрим разпределение кол-ва показаний для счетчиков, чтоб понимать, насколько полные данные у нас имеются\n",
    "df = daily_dataset_with_hh_info[ daily_dataset_with_hh_info['energy_count'] == 48][['LCLid', 'Acorn', 'day']]\\\n",
    ".groupby(by = 'LCLid', as_index=False)['day', 'Acorn'].count()\n",
    "sns.distplot(df['Acorn'])\n",
    "\n",
    "# освобождаем память\n",
    "df = None"
   ]
  },
  {
   "cell_type": "markdown",
   "metadata": {},
   "source": [
    "#### Расчет результата и строительство графика по классам"
   ]
  },
  {
   "cell_type": "code",
   "execution_count": 15,
   "metadata": {},
   "outputs": [],
   "source": [
    "# создаем датафрейм, в котором для каждой категории ACORN показан средний расход по разным типам счетчиков\n",
    "# Исключаем дни с неполными показаниями, менее 48 и неопределенную категорию\n",
    "counter_type_consumption = daily_dataset_with_hh_info[\n",
    "    (daily_dataset_with_hh_info['energy_count'] == 48) &\n",
    "    (daily_dataset_with_hh_info['Acorn'] != 'ACORN-')\n",
    "].groupby(by = ['Acorn', 'stdorToU'], as_index=False)['energy_sum', 'energy_max'].mean()"
   ]
  },
  {
   "cell_type": "code",
   "execution_count": 16,
   "metadata": {},
   "outputs": [
    {
     "data": {
      "text/plain": [
       "([0, 1, 2, 3, 4, 5, 6, 7, 8, 9, 10, 11, 12, 13, 14, 15, 16, 17],\n",
       " <a list of 18 Text xticklabel objects>)"
      ]
     },
     "execution_count": 16,
     "metadata": {},
     "output_type": "execute_result"
    },
    {
     "data": {
      "text/plain": [
       "<Figure size 720x720 with 0 Axes>"
      ]
     },
     "metadata": {},
     "output_type": "display_data"
    },
    {
     "data": {
      "image/png": "[encoded data removed]",
      "text/plain": [
       "<Figure size 432x288 with 1 Axes>"
      ]
     },
     "metadata": {
      "needs_background": "light"
     },
     "output_type": "display_data"
    }
   ],
   "source": [
    "# Строим график для наглядности данных\n",
    "\n",
    "# Трансформируем таблицу чтобы средние показания счетчиков были разненсены по колонкам\n",
    "ct = counter_type_consumption.pivot(\n",
    "    index='Acorn', columns='stdorToU', values='energy_sum'\n",
    ").reset_index()\n",
    "\n",
    "# Строим график\n",
    "\n",
    "# Размер\n",
    "plt.figure(figsize=(10, 10))\n",
    "fig = plt.figure()\n",
    "axes = fig.add_axes([0, 0, 1, 1])\n",
    "axes.bar(x = ct['Acorn'], height = ct['Std'], \n",
    "         width = 0.4, align = 'edge', label = 'Std')\n",
    "axes.bar(x = ct['Acorn'], height = ct['ToU'], \n",
    "         width = -0.4, align = 'edge', label = 'ToU')\n",
    "axes.legend(loc = 1)\n",
    "\n",
    "# Поворот подписей по оси Х\n",
    "plt.xticks(rotation=90)"
   ]
  },
  {
   "cell_type": "markdown",
   "metadata": {},
   "source": [
    "#### Расчет общего влияния установки счетчика:"
   ]
  },
  {
   "cell_type": "code",
   "execution_count": 17,
   "metadata": {},
   "outputs": [],
   "source": [
    "# создаем датафрейм, в котором для каждого типа счетчика показан средний расход\n",
    "# Исключаем дни с неполными показаниями, менее 48 и неопределенную категорию\n",
    "report = daily_dataset_with_hh_info[\n",
    "    (daily_dataset_with_hh_info['energy_count'] == 48) &\n",
    "    (daily_dataset_with_hh_info['Acorn'] != 'ACORN-')\n",
    "].groupby(by = 'stdorToU', as_index=False).mean()"
   ]
  },
  {
   "cell_type": "code",
   "execution_count": 18,
   "metadata": {},
   "outputs": [
    {
     "data": {
      "text/plain": [
       "<matplotlib.axes._subplots.AxesSubplot at 0x195800b91d0>"
      ]
     },
     "execution_count": 18,
     "metadata": {},
     "output_type": "execute_result"
    },
    {
     "data": {
      "image/png": "[encoded data removed]",
      "text/plain": [
       "<Figure size 432x288 with 1 Axes>"
      ]
     },
     "metadata": {
      "needs_background": "light"
     },
     "output_type": "display_data"
    }
   ],
   "source": [
    "# строим график\n",
    "sns.barplot(x = 'stdorToU', y = 'energy_sum', data = report)"
   ]
  },
  {
   "cell_type": "markdown",
   "metadata": {},
   "source": [
    "#### Вычисляем общий процент экономии:"
   ]
  },
  {
   "cell_type": "code",
   "execution_count": 19,
   "metadata": {},
   "outputs": [],
   "source": [
    "def ToU_percentage(row):\n",
    "    return round((row['ToU']/((row['Std'] + row['ToU'])/2))*100)-100\n",
    "\n",
    "def Std_percentage(row):\n",
    "    return round((row['Std']/((row['Std'] + row['ToU'])/2))*100)-100\n",
    "\n",
    "# создаем датафрейм, в котором для каждого типа счетчика показан средний расход\n",
    "# Исключаем дни с неполными показаниями, менее 48 и неопределенную категорию\n",
    "report = daily_dataset_with_hh_info[\n",
    "    (daily_dataset_with_hh_info['energy_count'] == 48) &\n",
    "    (daily_dataset_with_hh_info['Acorn'] != 'ACORN-')\n",
    "].groupby(by = 'stdorToU')['energy_sum'].mean()\n",
    "\n",
    "# Делаем из серийного объекта датафрейм и поворачиваем его для удобства\n",
    "report2 = pd.DataFrame(index = report.index, data={'avg_power':report.values}).T\n",
    "report2['Std_p'] = report2.apply(Std_percentage, axis=1)\n",
    "report2['ToU_p'] = report2.apply(ToU_percentage, axis=1)"
   ]
  },
  {
   "cell_type": "markdown",
   "metadata": {},
   "source": [
    "#### Расчет показывает экономию 4% от среднего значения дневного потребления энегрии по всем классам и всем счетчикам\n",
    "#### Потребление домохозяйств с установленными счетчиками ToU снижено на 8% по сравнению со стандартным Std"
   ]
  },
  {
   "cell_type": "code",
   "execution_count": 20,
   "metadata": {},
   "outputs": [
    {
     "data": {
      "text/html": [
       "<div>\n",
       "<style scoped>\n",
       "    .dataframe tbody tr th:only-of-type {\n",
       "        vertical-align: middle;\n",
       "    }\n",
       "\n",
       "    .dataframe tbody tr th {\n",
       "        vertical-align: top;\n",
       "    }\n",
       "\n",
       "    .dataframe thead th {\n",
       "        text-align: right;\n",
       "    }\n",
       "</style>\n",
       "<table border=\"1\" class=\"dataframe\">\n",
       "  <thead>\n",
       "    <tr style=\"text-align: right;\">\n",
       "      <th>stdorToU</th>\n",
       "      <th>Std_p</th>\n",
       "      <th>ToU_p</th>\n",
       "    </tr>\n",
       "  </thead>\n",
       "  <tbody>\n",
       "    <tr>\n",
       "      <th>avg_power</th>\n",
       "      <td>4.0</td>\n",
       "      <td>-4.0</td>\n",
       "    </tr>\n",
       "  </tbody>\n",
       "</table>\n",
       "</div>"
      ],
      "text/plain": [
       "stdorToU   Std_p  ToU_p\n",
       "avg_power    4.0   -4.0"
      ]
     },
     "execution_count": 20,
     "metadata": {},
     "output_type": "execute_result"
    }
   ],
   "source": [
    "report2[['Std_p', 'ToU_p']]"
   ]
  },
  {
   "cell_type": "code",
   "execution_count": 21,
   "metadata": {},
   "outputs": [
    {
     "data": {
      "text/plain": [
       "stdorToU\n",
       "Std    10.323564\n",
       "ToU     9.531409\n",
       "Name: energy_sum, dtype: float64"
      ]
     },
     "execution_count": 21,
     "metadata": {},
     "output_type": "execute_result"
    }
   ],
   "source": [
    "report"
   ]
  },
  {
   "cell_type": "markdown",
   "metadata": {},
   "source": [
    "### Расчет влияния погоды на потребление энергии"
   ]
  },
  {
   "cell_type": "code",
   "execution_count": 22,
   "metadata": {},
   "outputs": [
    {
     "data": {
      "text/html": [
       "<div>\n",
       "<style scoped>\n",
       "    .dataframe tbody tr th:only-of-type {\n",
       "        vertical-align: middle;\n",
       "    }\n",
       "\n",
       "    .dataframe tbody tr th {\n",
       "        vertical-align: top;\n",
       "    }\n",
       "\n",
       "    .dataframe thead th {\n",
       "        text-align: right;\n",
       "    }\n",
       "</style>\n",
       "<table border=\"1\" class=\"dataframe\">\n",
       "  <thead>\n",
       "    <tr style=\"text-align: right;\">\n",
       "      <th></th>\n",
       "      <th>apparentTemperature</th>\n",
       "    </tr>\n",
       "    <tr>\n",
       "      <th>day</th>\n",
       "      <th></th>\n",
       "    </tr>\n",
       "  </thead>\n",
       "  <tbody>\n",
       "    <tr>\n",
       "      <th>2011-11-01</th>\n",
       "      <td>13.361667</td>\n",
       "    </tr>\n",
       "    <tr>\n",
       "      <th>2011-11-02</th>\n",
       "      <td>11.096800</td>\n",
       "    </tr>\n",
       "    <tr>\n",
       "      <th>2011-11-03</th>\n",
       "      <td>14.995217</td>\n",
       "    </tr>\n",
       "    <tr>\n",
       "      <th>2011-11-04</th>\n",
       "      <td>14.229600</td>\n",
       "    </tr>\n",
       "    <tr>\n",
       "      <th>2011-11-05</th>\n",
       "      <td>12.386522</td>\n",
       "    </tr>\n",
       "  </tbody>\n",
       "</table>\n",
       "</div>"
      ],
      "text/plain": [
       "            apparentTemperature\n",
       "day                            \n",
       "2011-11-01            13.361667\n",
       "2011-11-02            11.096800\n",
       "2011-11-03            14.995217\n",
       "2011-11-04            14.229600\n",
       "2011-11-05            12.386522"
      ]
     },
     "execution_count": 22,
     "metadata": {},
     "output_type": "execute_result"
    }
   ],
   "source": [
    "# Загрузка данных о погоде\n",
    "weather = pd.read_csv(weather_hourly_darksky_file, usecols = [\"time\", \"apparentTemperature\"],  parse_dates = ['time'])\n",
    "\n",
    "# добавление колонки в датасек с округлением до дня\n",
    "weather['day'] = weather['time'].dt.round(\"d\")\n",
    "\n",
    "#\n",
    "weather_min = weather.groupby('day').agg({'apparentTemperature':np.mean})\n",
    "#weather_min['day'] = weather_min.apply(lambda row: row.loc('time'), axis=1)\n",
    "weather_min.head()"
   ]
  },
  {
   "cell_type": "code",
   "execution_count": 23,
   "metadata": {},
   "outputs": [
    {
     "data": {
      "text/html": [
       "<div>\n",
       "<style scoped>\n",
       "    .dataframe tbody tr th:only-of-type {\n",
       "        vertical-align: middle;\n",
       "    }\n",
       "\n",
       "    .dataframe tbody tr th {\n",
       "        vertical-align: top;\n",
       "    }\n",
       "\n",
       "    .dataframe thead th {\n",
       "        text-align: right;\n",
       "    }\n",
       "</style>\n",
       "<table border=\"1\" class=\"dataframe\">\n",
       "  <thead>\n",
       "    <tr style=\"text-align: right;\">\n",
       "      <th></th>\n",
       "      <th>time</th>\n",
       "      <th>apparentTemperature</th>\n",
       "      <th>day</th>\n",
       "    </tr>\n",
       "  </thead>\n",
       "  <tbody>\n",
       "    <tr>\n",
       "      <th>0</th>\n",
       "      <td>2011-11-11 00:00:00</td>\n",
       "      <td>10.24</td>\n",
       "      <td>2011-11-11</td>\n",
       "    </tr>\n",
       "    <tr>\n",
       "      <th>1</th>\n",
       "      <td>2011-11-11 01:00:00</td>\n",
       "      <td>8.24</td>\n",
       "      <td>2011-11-11</td>\n",
       "    </tr>\n",
       "    <tr>\n",
       "      <th>2</th>\n",
       "      <td>2011-11-11 02:00:00</td>\n",
       "      <td>7.76</td>\n",
       "      <td>2011-11-11</td>\n",
       "    </tr>\n",
       "    <tr>\n",
       "      <th>3</th>\n",
       "      <td>2011-11-11 03:00:00</td>\n",
       "      <td>7.44</td>\n",
       "      <td>2011-11-11</td>\n",
       "    </tr>\n",
       "    <tr>\n",
       "      <th>4</th>\n",
       "      <td>2011-11-11 04:00:00</td>\n",
       "      <td>7.24</td>\n",
       "      <td>2011-11-11</td>\n",
       "    </tr>\n",
       "  </tbody>\n",
       "</table>\n",
       "</div>"
      ],
      "text/plain": [
       "                 time  apparentTemperature        day\n",
       "0 2011-11-11 00:00:00                10.24 2011-11-11\n",
       "1 2011-11-11 01:00:00                 8.24 2011-11-11\n",
       "2 2011-11-11 02:00:00                 7.76 2011-11-11\n",
       "3 2011-11-11 03:00:00                 7.44 2011-11-11\n",
       "4 2011-11-11 04:00:00                 7.24 2011-11-11"
      ]
     },
     "execution_count": 23,
     "metadata": {},
     "output_type": "execute_result"
    }
   ],
   "source": [
    "weather.head()"
   ]
  },
  {
   "cell_type": "code",
   "execution_count": 24,
   "metadata": {},
   "outputs": [
    {
     "data": {
      "text/html": [
       "<div>\n",
       "<style scoped>\n",
       "    .dataframe tbody tr th:only-of-type {\n",
       "        vertical-align: middle;\n",
       "    }\n",
       "\n",
       "    .dataframe tbody tr th {\n",
       "        vertical-align: top;\n",
       "    }\n",
       "\n",
       "    .dataframe thead th {\n",
       "        text-align: right;\n",
       "    }\n",
       "</style>\n",
       "<table border=\"1\" class=\"dataframe\">\n",
       "  <thead>\n",
       "    <tr style=\"text-align: right;\">\n",
       "      <th></th>\n",
       "      <th>LCLid</th>\n",
       "      <th>day</th>\n",
       "      <th>energy_median</th>\n",
       "      <th>energy_mean</th>\n",
       "      <th>energy_max</th>\n",
       "      <th>energy_count</th>\n",
       "      <th>energy_std</th>\n",
       "      <th>energy_sum</th>\n",
       "      <th>energy_min</th>\n",
       "    </tr>\n",
       "  </thead>\n",
       "  <tbody>\n",
       "    <tr>\n",
       "      <th>0</th>\n",
       "      <td>MAC000131</td>\n",
       "      <td>2011-12-15</td>\n",
       "      <td>0.4850</td>\n",
       "      <td>0.432045</td>\n",
       "      <td>0.868</td>\n",
       "      <td>22</td>\n",
       "      <td>0.239146</td>\n",
       "      <td>9.505</td>\n",
       "      <td>0.072</td>\n",
       "    </tr>\n",
       "    <tr>\n",
       "      <th>1</th>\n",
       "      <td>MAC000131</td>\n",
       "      <td>2011-12-16</td>\n",
       "      <td>0.1415</td>\n",
       "      <td>0.296167</td>\n",
       "      <td>1.116</td>\n",
       "      <td>48</td>\n",
       "      <td>0.281471</td>\n",
       "      <td>14.216</td>\n",
       "      <td>0.031</td>\n",
       "    </tr>\n",
       "    <tr>\n",
       "      <th>2</th>\n",
       "      <td>MAC000131</td>\n",
       "      <td>2011-12-17</td>\n",
       "      <td>0.1015</td>\n",
       "      <td>0.189812</td>\n",
       "      <td>0.685</td>\n",
       "      <td>48</td>\n",
       "      <td>0.188405</td>\n",
       "      <td>9.111</td>\n",
       "      <td>0.064</td>\n",
       "    </tr>\n",
       "    <tr>\n",
       "      <th>3</th>\n",
       "      <td>MAC000131</td>\n",
       "      <td>2011-12-18</td>\n",
       "      <td>0.1140</td>\n",
       "      <td>0.218979</td>\n",
       "      <td>0.676</td>\n",
       "      <td>48</td>\n",
       "      <td>0.202919</td>\n",
       "      <td>10.511</td>\n",
       "      <td>0.065</td>\n",
       "    </tr>\n",
       "    <tr>\n",
       "      <th>4</th>\n",
       "      <td>MAC000131</td>\n",
       "      <td>2011-12-19</td>\n",
       "      <td>0.1910</td>\n",
       "      <td>0.325979</td>\n",
       "      <td>0.788</td>\n",
       "      <td>48</td>\n",
       "      <td>0.259205</td>\n",
       "      <td>15.647</td>\n",
       "      <td>0.066</td>\n",
       "    </tr>\n",
       "  </tbody>\n",
       "</table>\n",
       "</div>"
      ],
      "text/plain": [
       "       LCLid        day  energy_median  energy_mean  energy_max  energy_count  \\\n",
       "0  MAC000131 2011-12-15         0.4850     0.432045       0.868            22   \n",
       "1  MAC000131 2011-12-16         0.1415     0.296167       1.116            48   \n",
       "2  MAC000131 2011-12-17         0.1015     0.189812       0.685            48   \n",
       "3  MAC000131 2011-12-18         0.1140     0.218979       0.676            48   \n",
       "4  MAC000131 2011-12-19         0.1910     0.325979       0.788            48   \n",
       "\n",
       "   energy_std  energy_sum  energy_min  \n",
       "0    0.239146       9.505       0.072  \n",
       "1    0.281471      14.216       0.031  \n",
       "2    0.188405       9.111       0.064  \n",
       "3    0.202919      10.511       0.065  \n",
       "4    0.259205      15.647       0.066  "
      ]
     },
     "execution_count": 24,
     "metadata": {},
     "output_type": "execute_result"
    }
   ],
   "source": [
    "df_daily_dataset.head()"
   ]
  },
  {
   "cell_type": "code",
   "execution_count": 25,
   "metadata": {},
   "outputs": [],
   "source": [
    "daily_dataset_for_weather = df_daily_dataset[\n",
    "    (daily_dataset_with_hh_info['energy_count'] == 48) &\n",
    "    (daily_dataset_with_hh_info['Acorn'] != 'ACORN-')\n",
    "].groupby('day').agg({'energy_sum':np.mean})\n",
    "weather_mean = weather.groupby('day').agg({'apparentTemperature':np.mean})"
   ]
  },
  {
   "cell_type": "code",
   "execution_count": 26,
   "metadata": {},
   "outputs": [
    {
     "data": {
      "text/html": [
       "<div>\n",
       "<style scoped>\n",
       "    .dataframe tbody tr th:only-of-type {\n",
       "        vertical-align: middle;\n",
       "    }\n",
       "\n",
       "    .dataframe tbody tr th {\n",
       "        vertical-align: top;\n",
       "    }\n",
       "\n",
       "    .dataframe thead th {\n",
       "        text-align: right;\n",
       "    }\n",
       "</style>\n",
       "<table border=\"1\" class=\"dataframe\">\n",
       "  <thead>\n",
       "    <tr style=\"text-align: right;\">\n",
       "      <th></th>\n",
       "      <th>energy_sum</th>\n",
       "    </tr>\n",
       "    <tr>\n",
       "      <th>day</th>\n",
       "      <th></th>\n",
       "    </tr>\n",
       "  </thead>\n",
       "  <tbody>\n",
       "    <tr>\n",
       "      <th>2011-11-24</th>\n",
       "      <td>10.728615</td>\n",
       "    </tr>\n",
       "    <tr>\n",
       "      <th>2011-11-25</th>\n",
       "      <td>10.182200</td>\n",
       "    </tr>\n",
       "    <tr>\n",
       "      <th>2011-11-26</th>\n",
       "      <td>10.610687</td>\n",
       "    </tr>\n",
       "    <tr>\n",
       "      <th>2011-11-27</th>\n",
       "      <td>10.850805</td>\n",
       "    </tr>\n",
       "    <tr>\n",
       "      <th>2011-11-28</th>\n",
       "      <td>10.105561</td>\n",
       "    </tr>\n",
       "  </tbody>\n",
       "</table>\n",
       "</div>"
      ],
      "text/plain": [
       "            energy_sum\n",
       "day                   \n",
       "2011-11-24   10.728615\n",
       "2011-11-25   10.182200\n",
       "2011-11-26   10.610687\n",
       "2011-11-27   10.850805\n",
       "2011-11-28   10.105561"
      ]
     },
     "execution_count": 26,
     "metadata": {},
     "output_type": "execute_result"
    }
   ],
   "source": [
    "daily_dataset_for_weather.head()"
   ]
  },
  {
   "cell_type": "code",
   "execution_count": 27,
   "metadata": {},
   "outputs": [],
   "source": [
    "en_weather = daily_dataset_for_weather.merge(weather_mean, how = 'left', on = 'day')"
   ]
  },
  {
   "cell_type": "code",
   "execution_count": 28,
   "metadata": {},
   "outputs": [
    {
     "data": {
      "text/plain": [
       "<matplotlib.axes._subplots.AxesSubplot at 0x195801a9278>"
      ]
     },
     "execution_count": 28,
     "metadata": {},
     "output_type": "execute_result"
    },
    {
     "data": {
      "image/png": "[encoded data removed]",
      "text/plain": [
       "<Figure size 720x432 with 1 Axes>"
      ]
     },
     "metadata": {
      "needs_background": "light"
     },
     "output_type": "display_data"
    }
   ],
   "source": [
    "plt.figure(figsize=(10, 6))\n",
    "sns.lineplot(x=\"apparentTemperature\", y=\"energy_sum\", data=en_weather)"
   ]
  },
  {
   "cell_type": "markdown",
   "metadata": {},
   "source": [
    "### Расчет влияния на потребление времени суток"
   ]
  },
  {
   "cell_type": "code",
   "execution_count": 29,
   "metadata": {},
   "outputs": [],
   "source": [
    "# Загрузка данных из файла в словарь hh_inf_dict\n",
    "hh_inf_dict = {}\n",
    "with open(informations_households_file, 'r') as f:\n",
    "    next(f)\n",
    "    for line in f:\n",
    "        line = line.strip().split(',')\n",
    "        hh_inf_dict.setdefault(line[0], {})\n",
    "        hh_inf_dict[line[0]]['acorn']=line[2]\n",
    "        hh_inf_dict[line[0]]['type']=line[1]\n",
    "# hh_inf_dict"
   ]
  },
  {
   "cell_type": "code",
   "execution_count": 30,
   "metadata": {},
   "outputs": [
    {
     "name": "stdout",
     "output_type": "stream",
     "text": [
      "block_0.csv\n",
      "block_1.csv\n",
      "block_10.csv\n",
      "block_100.csv\n",
      "block_101.csv\n",
      "block_102.csv\n",
      "block_103.csv\n",
      "block_104.csv\n",
      "block_105.csv\n",
      "block_106.csv\n",
      "block_107.csv\n",
      "block_108.csv\n",
      "block_109.csv\n",
      "block_11.csv\n",
      "block_110.csv\n",
      "block_111.csv\n",
      "block_12.csv\n",
      "block_13.csv\n",
      "block_14.csv\n",
      "block_15.csv\n",
      "block_16.csv\n",
      "block_17.csv\n",
      "block_18.csv\n",
      "block_19.csv\n",
      "block_2.csv\n",
      "block_20.csv\n",
      "block_21.csv\n",
      "block_22.csv\n",
      "block_23.csv\n",
      "block_24.csv\n",
      "block_25.csv\n",
      "block_26.csv\n",
      "block_27.csv\n",
      "block_28.csv\n",
      "block_29.csv\n",
      "block_3.csv\n",
      "block_30.csv\n",
      "block_31.csv\n",
      "block_32.csv\n",
      "block_33.csv\n",
      "block_34.csv\n",
      "block_35.csv\n",
      "block_36.csv\n",
      "block_37.csv\n",
      "block_38.csv\n",
      "block_39.csv\n",
      "block_4.csv\n",
      "block_40.csv\n",
      "block_41.csv\n",
      "block_42.csv\n",
      "block_43.csv\n",
      "block_44.csv\n",
      "block_45.csv\n",
      "block_46.csv\n",
      "block_47.csv\n",
      "block_48.csv\n",
      "block_49.csv\n",
      "block_5.csv\n",
      "block_50.csv\n",
      "block_51.csv\n",
      "block_52.csv\n",
      "block_53.csv\n",
      "block_54.csv\n",
      "block_55.csv\n",
      "block_56.csv\n",
      "block_57.csv\n",
      "block_58.csv\n",
      "block_59.csv\n",
      "block_6.csv\n",
      "block_60.csv\n",
      "block_61.csv\n",
      "block_62.csv\n",
      "block_63.csv\n",
      "block_64.csv\n",
      "block_65.csv\n",
      "block_66.csv\n",
      "block_67.csv\n",
      "block_68.csv\n",
      "block_69.csv\n",
      "block_7.csv\n",
      "block_70.csv\n",
      "block_71.csv\n",
      "block_72.csv\n",
      "block_73.csv\n",
      "block_74.csv\n",
      "block_75.csv\n",
      "block_76.csv\n",
      "block_77.csv\n",
      "block_78.csv\n",
      "block_79.csv\n",
      "block_8.csv\n",
      "block_80.csv\n",
      "block_81.csv\n",
      "block_82.csv\n",
      "block_83.csv\n",
      "block_84.csv\n",
      "block_85.csv\n",
      "block_86.csv\n",
      "block_87.csv\n",
      "block_88.csv\n",
      "block_89.csv\n",
      "block_9.csv\n",
      "block_90.csv\n",
      "block_91.csv\n",
      "block_92.csv\n",
      "block_93.csv\n",
      "block_94.csv\n",
      "block_95.csv\n",
      "block_96.csv\n",
      "block_97.csv\n",
      "block_98.csv\n",
      "block_99.csv\n"
     ]
    }
   ],
   "source": [
    "# Загрузка всей файлов в папке halfhourly_dataset с получасовыми данными в компактный словарь для рисования графиков\n",
    "hfhr_ds_dict={}\n",
    "for root, dirs, files in os.walk(halfhourly_dataset_folder):\n",
    "    for file in files:\n",
    "        print(file)\n",
    "        with open(os.path.join(root, file), 'r') as f:\n",
    "            next(f)\n",
    "            for line in f:\n",
    "                line = line.strip().split(',')\n",
    "                acorn = hh_inf_dict[line[0]]['acorn']\n",
    "                c_type = hh_inf_dict[line[0]]['type']\n",
    "                time_int = str(line[1][11:16])\n",
    "                if line[2] != 'Null':\n",
    "                    pwr = float(line[2])\n",
    "                hfhr_ds_dict.setdefault(acorn, {})\n",
    "                hfhr_ds_dict[acorn].setdefault(time_int, {})\n",
    "                hfhr_ds_dict[acorn][time_int].setdefault(c_type, {})\n",
    "                hfhr_ds_dict[acorn][time_int][c_type].setdefault('value', 0)\n",
    "                hfhr_ds_dict[acorn][time_int][c_type].setdefault('count', 0)\n",
    "                hfhr_ds_dict[acorn][time_int][c_type]['value']=hfhr_ds_dict[acorn][time_int][c_type]['value']+pwr\n",
    "                hfhr_ds_dict[acorn][time_int][c_type]['count']+=1"
   ]
  },
  {
   "cell_type": "code",
   "execution_count": 31,
   "metadata": {},
   "outputs": [],
   "source": [
    "# Функция которая преобразует строку вида HH:MM в интервал от 0 до 23.5\n",
    "# например 1 это 1 час; 12.5 это 12часов 30минут\n",
    "def time_to_day_interval(string):\n",
    "    i = 0\n",
    "    for h in ['00','01','02','03','04','05',\n",
    "              '06','07','08','09','10','11',\n",
    "              '12','13','14','15','16','17',\n",
    "              '18','19','20','21','22','23']:\n",
    "        for m in ['00','30']:\n",
    "            if '{}:{}'.format(h,m) in string:\n",
    "                return i\n",
    "            i=i+0.5\n",
    "\n",
    "# создание нового датафрейма\n",
    "time_stats = pd.DataFrame([], columns=['acorn', 'interval', 'pwr_c'])\n",
    "\n",
    "# Цикл добавляет в датафрейм time_stats данные из массива hfhr_ds_dict\n",
    "for key in hfhr_ds_dict.keys():\n",
    "    for it in hfhr_ds_dict[key]:\n",
    "#        print(hfhr_ds_dict[key][it])\n",
    "        t_interv = time_to_day_interval(it)\n",
    "        for ct in hfhr_ds_dict[key][it]:\n",
    "            if t_interv is not None:\n",
    "                time_stats = time_stats.append({'acorn': key, 'interval': t_interv, 'ct': ct, 'pwr_c': hfhr_ds_dict[key][it][ct]['value']/hfhr_ds_dict[key][it][ct]['count']}, ignore_index=True)\n",
    "\n",
    "# Добавление в датафрейм time_stats данных о среднем энергопотреблении, для этого\n",
    "# создаем псевдо-группу ACORN-MED\n",
    "for index, row in time_stats.groupby('interval', as_index=False).agg({'pwr_c':np.mean}).iterrows():\n",
    "    time_stats = time_stats.append({'acorn': 'ACORN-MED', 'interval': row[0], 'pwr_c': row[1]}, ignore_index=True)"
   ]
  },
  {
   "cell_type": "code",
   "execution_count": 32,
   "metadata": {
    "scrolled": false
   },
   "outputs": [
    {
     "data": {
      "text/plain": [
       "<matplotlib.axes._subplots.AxesSubplot at 0x19580219e10>"
      ]
     },
     "execution_count": 32,
     "metadata": {},
     "output_type": "execute_result"
    },
    {
     "data": {
      "image/png": "[encoded data removed]",
      "text/plain": [
       "<Figure size 720x432 with 1 Axes>"
      ]
     },
     "metadata": {
      "needs_background": "light"
     },
     "output_type": "display_data"
    }
   ],
   "source": [
    "# График потребления в зависимости от времени для всех классов c подсветкой по типам счетчиков\n",
    "plt.figure(figsize=(10, 6))\n",
    "sns.lineplot(x=\"interval\", y=\"pwr_c\", data=time_stats, hue='ct')"
   ]
  },
  {
   "cell_type": "code",
   "execution_count": 33,
   "metadata": {},
   "outputs": [
    {
     "data": {
      "text/plain": [
       "<matplotlib.axes._subplots.AxesSubplot at 0x19580585588>"
      ]
     },
     "execution_count": 33,
     "metadata": {},
     "output_type": "execute_result"
    },
    {
     "data": {
      "image/png": "[encoded data removed]",
      "text/plain": [
       "<Figure size 720x432 with 1 Axes>"
      ]
     },
     "metadata": {
      "needs_background": "light"
     },
     "output_type": "display_data"
    }
   ],
   "source": [
    "# Рисуем график сравнения потребления конкретного класса со средним значением\n",
    "plt.figure(figsize=(10, 6))\n",
    "sns.lineplot(x=\"interval\", y=\"pwr_c\", data=time_stats[(time_stats['acorn']=='ACORN-A') |\n",
    "                                                      (time_stats['acorn']=='ACORN-MED')],\n",
    "             hue = 'acorn')"
   ]
  }
 ],
 "metadata": {
  "kernelspec": {
   "display_name": "Python 3",
   "language": "python",
   "name": "python3"
  },
  "language_info": {
   "codemirror_mode": {
    "name": "ipython",
    "version": 3
   },
   "file_extension": ".py",
   "mimetype": "text/x-python",
   "name": "python",
   "nbconvert_exporter": "python",
   "pygments_lexer": "ipython3",
   "version": "3.7.1"
  }
 },
 "nbformat": 4,
 "nbformat_minor": 2
}
