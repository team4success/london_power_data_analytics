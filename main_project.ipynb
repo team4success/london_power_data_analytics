{
 "cells": [
  {
   "cell_type": "markdown",
   "metadata": {},
   "source": [
    "- Факторы которые влияют на энергопотребление? - почему?\n",
    "- найти факторы и сделать рейтинг факторов\n",
    "- Один дом, один файл.\n",
    "- PDF и код юпитера\n",
    "- К репозиторию файл README\n"
   ]
  },
  {
   "cell_type": "markdown",
   "metadata": {},
   "source": [
    "### Инициализация и загрузка данных"
   ]
  },
  {
   "cell_type": "code",
   "execution_count": 1,
   "metadata": {},
   "outputs": [],
   "source": [
    "import os\n",
    "import pandas as pd\n",
    "import re\n",
    "import seaborn as sns\n",
    "import numpy as np\n",
    "import matplotlib.pyplot as plt\n",
    "\n",
    "# Для отладки\n",
    "set_debug = False\n",
    "\n",
    "# Небольшой код который сам ищет необходимые файлы на компьютере\n",
    "# Достаточно установить пути где данные файлы могут находится\n",
    "# Файлы которые нужно искать\n",
    "# Ипапка в которых располагается статистика \n",
    "\n",
    "# Пути где искать папку данных\n",
    "smart_meters_folder_paths = ['Y:/temp', 'smart-meters-in-london/']\n",
    "\n",
    "# Название папки с данными\n",
    "sm_folder_name = 'smart-meters-in-london'\n",
    "\n",
    "# Файлы которые нам нужно загружать\n",
    "data_files = ['^acorn_details.csv$',\n",
    "              '^uk_bank_holidays.csv$',\n",
    "              '^weather_daily_darksky.csv$',\n",
    "              '^weather_hourly_darksky.csv$',\n",
    "              '^informations_households.csv$',\n",
    "              '^daily_dataset.csv$', \n",
    "              '^block_.*']\n",
    "\n",
    "data_files_paths = {}\n",
    "\n",
    "# Для переключения режима отладки, выводит если set_debug == True\n",
    "def debug(*args, **kwargs):\n",
    "    if set_debug is True:\n",
    "        print(*args, **kwargs)\n",
    "\n",
    "\n",
    "# это просто флак который меняется в зависимости от того загружены ли данные\n",
    "sm_data_loaded = False\n",
    "\n",
    "# Поиск путей для каждого из файлов\n",
    "for sm_folder_path in smart_meters_folder_paths:\n",
    "    for root, dirs, files in os.walk(sm_folder_path):\n",
    "        if sm_data_loaded == False:\n",
    "            if os.path.basename(root) == sm_folder_name:\n",
    "                sm_data_loaded = True\n",
    "                debug('Папка с файлами найдена {}\\n\\n'.format(root))\n",
    "                for root, dirs, files in os.walk(root):\n",
    "                    debug('Папка {} содержит файлы:\\n{}'.format(root, files))\n",
    "                    debug('Список внутренних папок: {}\\n'.format(dirs))\n",
    "                    for sm_filename in data_files:\n",
    "                        for file in files:\n",
    "                            if re.search(sm_filename, file):\n",
    "                                try:\n",
    "                                    data_files_paths[sm_filename]\n",
    "                                except:\n",
    "                                    data_files_paths[sm_filename] = []                              \n",
    "                                data_files_paths[sm_filename].append(os.path.join(root, file))\n",
    "\n",
    "# Функция загружает файлы из массива в котором содержатся пути файлов и возвращает склееный DataFrame\n",
    "def load_files(files, names=None):\n",
    "    data = pd.DataFrame()\n",
    "    for file in files:\n",
    "        temp = pd.read_csv(file, encoding='ANSI', names = names)\n",
    "        data = pd.concat([data, temp])\n",
    "    return data\n",
    "\n",
    "debug(data_files_paths)"
   ]
  },
  {
   "cell_type": "code",
   "execution_count": 2,
   "metadata": {},
   "outputs": [],
   "source": [
    "# Загрузка файлов в Pandas\n",
    "#df_acorn_details = load_files(data_files_paths['^acorn_details.csv$'])\n",
    "#df_uk_bank_holidays = load_files(data_files_paths['^uk_bank_holidays.csv$'])\n",
    "#df_weather_daily_darksky = load_files(data_files_paths['^weather_daily_darksky.csv$'])\n",
    "#df_weather_hourly_darksky = load_files(data_files_paths['^weather_hourly_darksky.csv$'])\n",
    "\n",
    "# Информация о датчиках энергопотребления и краткие сведения о домах, в которых эти датчики установлены. Столбцы датафреима:\n",
    "# ✓  LCLid – id датчика;\n",
    "# ✓  stdorToU – форма оплаты за электроэнергию в доме, в котором установлен датчик (Std –\n",
    "# стандартная, ToU – оплата зависит от времени суток);\n",
    "# ✓  Acorn, Acorn_grouped – информация о том, к какой категории потребителей по системе ACORN относится семья, проживающая в данном доме;\n",
    "# ✓  file – имя фаила, содержащего показатели счетчиков.\n",
    "df_informations_households = load_files(data_files_paths['^informations_households.csv$'])\n",
    "\n",
    "# Архив содержит 112 фаилов, содержащих обобщенные данные об энергопотреблении за каждые сутки.\n",
    "# Каждый фаил содержит информацию с датчиков, установленных в одном доме. Столбцы датафреима:\n",
    "# ✓  LCLid – id датчика;\n",
    "# ✓  day – дата;\n",
    "# ✓  energy_median – медиана суточных показателей;\n",
    "# ✓  energy_mean – среднее арифметическое суточных показателей;\n",
    "# ✓  energy_max – максимальное значение энергопотребления, зафиксированное датчиком в течение дня;\n",
    "# ✓  energy_count – количество показателей, зафиксированных датчиком в течение дня;\n",
    "# ✓  energy_std – стандартное отклонение;\n",
    "# ✓  energy_sum – сумма значений всех показателей;\n",
    "# ✓  energy_min – минимальное значение энергопотребления, зафиксированное датчиком в течение дня.\n",
    "df_daily_dataset = load_files(data_files_paths['^daily_dataset.csv$'])\n",
    "\n",
    "# df_hourly_dataset = load_files(data_files_paths['^block_.*'])"
   ]
  },
  {
   "cell_type": "markdown",
   "metadata": {},
   "source": [
    "### Информация о загруженных данных"
   ]
  },
  {
   "cell_type": "code",
   "execution_count": 3,
   "metadata": {},
   "outputs": [
    {
     "name": "stdout",
     "output_type": "stream",
     "text": [
      "<class 'pandas.core.frame.DataFrame'>\n",
      "RangeIndex: 5566 entries, 0 to 5565\n",
      "Data columns (total 5 columns):\n",
      "LCLid            5566 non-null object\n",
      "stdorToU         5566 non-null object\n",
      "Acorn            5566 non-null object\n",
      "Acorn_grouped    5566 non-null object\n",
      "file             5566 non-null object\n",
      "dtypes: object(5)\n",
      "memory usage: 217.5+ KB\n"
     ]
    }
   ],
   "source": [
    "df_informations_households.info()"
   ]
  },
  {
   "cell_type": "code",
   "execution_count": 4,
   "metadata": {},
   "outputs": [
    {
     "name": "stdout",
     "output_type": "stream",
     "text": [
      "<class 'pandas.core.frame.DataFrame'>\n",
      "RangeIndex: 3510433 entries, 0 to 3510432\n",
      "Data columns (total 9 columns):\n",
      "LCLid            object\n",
      "day              object\n",
      "energy_median    float64\n",
      "energy_mean      float64\n",
      "energy_max       float64\n",
      "energy_count     int64\n",
      "energy_std       float64\n",
      "energy_sum       float64\n",
      "energy_min       float64\n",
      "dtypes: float64(6), int64(1), object(2)\n",
      "memory usage: 241.0+ MB\n"
     ]
    }
   ],
   "source": [
    "df_daily_dataset.info()"
   ]
  },
  {
   "cell_type": "markdown",
   "metadata": {},
   "source": [
    "### Определение типа счетчика в зависимости от класса ACORN\n",
    "Получение процентного соотношения ToU/Std в зависимости от класса"
   ]
  },
  {
   "cell_type": "code",
   "execution_count": 5,
   "metadata": {},
   "outputs": [],
   "source": [
    "# выдает 1 если счетчик ToU\n",
    "def count_ToU(row):\n",
    "    if row['stdorToU'] == 'ToU':\n",
    "        return 1\n",
    "    return 0\n",
    "\n",
    "# выдает 1 если счетчик Std\n",
    "def count_Std(row):\n",
    "    if row['stdorToU'] == 'Std':\n",
    "        return 1\n",
    "    return 0\n",
    "\n",
    "def ToU_percentage(row):\n",
    "    return round((row['ToU'] / (row['ToU'] + row['Std']))*100,1)"
   ]
  },
  {
   "cell_type": "code",
   "execution_count": 6,
   "metadata": {},
   "outputs": [
    {
     "data": {
      "text/html": [
       "<div>\n",
       "<style scoped>\n",
       "    .dataframe tbody tr th:only-of-type {\n",
       "        vertical-align: middle;\n",
       "    }\n",
       "\n",
       "    .dataframe tbody tr th {\n",
       "        vertical-align: top;\n",
       "    }\n",
       "\n",
       "    .dataframe thead th {\n",
       "        text-align: right;\n",
       "    }\n",
       "</style>\n",
       "<table border=\"1\" class=\"dataframe\">\n",
       "  <thead>\n",
       "    <tr style=\"text-align: right;\">\n",
       "      <th></th>\n",
       "      <th>LCLid</th>\n",
       "      <th>stdorToU</th>\n",
       "      <th>Acorn</th>\n",
       "      <th>Acorn_grouped</th>\n",
       "      <th>file</th>\n",
       "      <th>ToU</th>\n",
       "      <th>Std</th>\n",
       "    </tr>\n",
       "  </thead>\n",
       "  <tbody>\n",
       "    <tr>\n",
       "      <th>0</th>\n",
       "      <td>MAC005492</td>\n",
       "      <td>ToU</td>\n",
       "      <td>ACORN-</td>\n",
       "      <td>ACORN-</td>\n",
       "      <td>block_0</td>\n",
       "      <td>1</td>\n",
       "      <td>0</td>\n",
       "    </tr>\n",
       "  </tbody>\n",
       "</table>\n",
       "</div>"
      ],
      "text/plain": [
       "       LCLid stdorToU   Acorn Acorn_grouped     file  ToU  Std\n",
       "0  MAC005492      ToU  ACORN-        ACORN-  block_0    1    0"
      ]
     },
     "execution_count": 6,
     "metadata": {},
     "output_type": "execute_result"
    }
   ],
   "source": [
    "# Изменяем таблицу df_informations_households так, чтобы тип счетчика был в раздельных столбцах ToU Std\n",
    "# Обогащение нужными нам данными\n",
    "df_informations_households['ToU'] = df_informations_households.apply(count_ToU, axis=1)\n",
    "df_informations_households['Std'] = df_informations_households.apply(count_Std, axis=1)\n",
    "df_informations_households.head(1)"
   ]
  },
  {
   "cell_type": "code",
   "execution_count": 7,
   "metadata": {},
   "outputs": [],
   "source": [
    "# Группируем с нахождением кол-ва типов счетчиков для каждого класса\n",
    "counter_type_stats = df_informations_households.groupby(by = 'Acorn', as_index=False)['ToU', 'Std'].sum()\n",
    "\n",
    "# Вычесляем процент установленных счетчиков ToU\n",
    "counter_type_stats['ToU_perc'] = counter_type_stats.apply(ToU_percentage, axis=1)"
   ]
  },
  {
   "cell_type": "markdown",
   "metadata": {},
   "source": [
    "### Процент счетчиков ToU в зависимости от класса"
   ]
  },
  {
   "cell_type": "code",
   "execution_count": 8,
   "metadata": {
    "scrolled": false
   },
   "outputs": [
    {
     "data": {
      "text/plain": [
       "<matplotlib.axes._subplots.AxesSubplot at 0x21d13ff75c0>"
      ]
     },
     "execution_count": 8,
     "metadata": {},
     "output_type": "execute_result"
    },
    {
     "data": {
      "image/png": "[encoded data removed]",
      "text/plain": [
       "<Figure size 720x432 with 1 Axes>"
      ]
     },
     "metadata": {
      "needs_background": "light"
     },
     "output_type": "display_data"
    }
   ],
   "source": [
    "# Строим график\n",
    "plt.figure(figsize=(10, 6))\n",
    "sns.barplot(x = 'ToU_perc', y = 'Acorn', color='gray', data = counter_type_stats[counter_type_stats['Acorn'] != 'ACORN-'])"
   ]
  },
  {
   "cell_type": "markdown",
   "metadata": {},
   "source": [
    "### Расчет среднего потребления энергии в зависимости от класса"
   ]
  },
  {
   "cell_type": "code",
   "execution_count": 9,
   "metadata": {},
   "outputs": [],
   "source": [
    "# Загружаем данные еще раз т.к прошлые были изменены\n",
    "daily_dataset_with_hh_info = df_daily_dataset.merge(df_informations_households, how = 'left', on = 'LCLid')"
   ]
  },
  {
   "cell_type": "code",
   "execution_count": 10,
   "metadata": {},
   "outputs": [
    {
     "data": {
      "text/html": [
       "<div>\n",
       "<style scoped>\n",
       "    .dataframe tbody tr th:only-of-type {\n",
       "        vertical-align: middle;\n",
       "    }\n",
       "\n",
       "    .dataframe tbody tr th {\n",
       "        vertical-align: top;\n",
       "    }\n",
       "\n",
       "    .dataframe thead th {\n",
       "        text-align: right;\n",
       "    }\n",
       "</style>\n",
       "<table border=\"1\" class=\"dataframe\">\n",
       "  <thead>\n",
       "    <tr style=\"text-align: right;\">\n",
       "      <th></th>\n",
       "      <th>min</th>\n",
       "      <th>max</th>\n",
       "    </tr>\n",
       "    <tr>\n",
       "      <th>Acorn</th>\n",
       "      <th></th>\n",
       "      <th></th>\n",
       "    </tr>\n",
       "  </thead>\n",
       "  <tbody>\n",
       "    <tr>\n",
       "      <th>ACORN-</th>\n",
       "      <td>2012-04-18</td>\n",
       "      <td>2014-02-27</td>\n",
       "    </tr>\n",
       "    <tr>\n",
       "      <th>ACORN-A</th>\n",
       "      <td>2011-12-04</td>\n",
       "      <td>2014-02-27</td>\n",
       "    </tr>\n",
       "    <tr>\n",
       "      <th>ACORN-B</th>\n",
       "      <td>2011-12-24</td>\n",
       "      <td>2014-02-27</td>\n",
       "    </tr>\n",
       "    <tr>\n",
       "      <th>ACORN-C</th>\n",
       "      <td>2011-12-07</td>\n",
       "      <td>2014-02-27</td>\n",
       "    </tr>\n",
       "    <tr>\n",
       "      <th>ACORN-D</th>\n",
       "      <td>2011-11-24</td>\n",
       "      <td>2014-02-27</td>\n",
       "    </tr>\n",
       "    <tr>\n",
       "      <th>ACORN-E</th>\n",
       "      <td>2011-11-24</td>\n",
       "      <td>2014-02-27</td>\n",
       "    </tr>\n",
       "    <tr>\n",
       "      <th>ACORN-F</th>\n",
       "      <td>2011-11-24</td>\n",
       "      <td>2014-02-27</td>\n",
       "    </tr>\n",
       "    <tr>\n",
       "      <th>ACORN-G</th>\n",
       "      <td>2011-11-24</td>\n",
       "      <td>2014-02-27</td>\n",
       "    </tr>\n",
       "    <tr>\n",
       "      <th>ACORN-H</th>\n",
       "      <td>2011-11-25</td>\n",
       "      <td>2014-02-27</td>\n",
       "    </tr>\n",
       "    <tr>\n",
       "      <th>ACORN-I</th>\n",
       "      <td>2012-01-24</td>\n",
       "      <td>2014-02-27</td>\n",
       "    </tr>\n",
       "    <tr>\n",
       "      <th>ACORN-J</th>\n",
       "      <td>2011-12-08</td>\n",
       "      <td>2014-02-27</td>\n",
       "    </tr>\n",
       "    <tr>\n",
       "      <th>ACORN-K</th>\n",
       "      <td>2011-11-29</td>\n",
       "      <td>2014-02-27</td>\n",
       "    </tr>\n",
       "    <tr>\n",
       "      <th>ACORN-L</th>\n",
       "      <td>2011-11-24</td>\n",
       "      <td>2014-02-27</td>\n",
       "    </tr>\n",
       "    <tr>\n",
       "      <th>ACORN-M</th>\n",
       "      <td>2011-12-15</td>\n",
       "      <td>2014-02-27</td>\n",
       "    </tr>\n",
       "    <tr>\n",
       "      <th>ACORN-N</th>\n",
       "      <td>2011-12-09</td>\n",
       "      <td>2014-02-27</td>\n",
       "    </tr>\n",
       "    <tr>\n",
       "      <th>ACORN-O</th>\n",
       "      <td>2011-11-26</td>\n",
       "      <td>2014-02-27</td>\n",
       "    </tr>\n",
       "    <tr>\n",
       "      <th>ACORN-P</th>\n",
       "      <td>2011-12-08</td>\n",
       "      <td>2014-02-27</td>\n",
       "    </tr>\n",
       "    <tr>\n",
       "      <th>ACORN-Q</th>\n",
       "      <td>2011-11-24</td>\n",
       "      <td>2014-02-27</td>\n",
       "    </tr>\n",
       "    <tr>\n",
       "      <th>ACORN-U</th>\n",
       "      <td>2011-12-08</td>\n",
       "      <td>2014-02-27</td>\n",
       "    </tr>\n",
       "  </tbody>\n",
       "</table>\n",
       "</div>"
      ],
      "text/plain": [
       "                min         max\n",
       "Acorn                          \n",
       "ACORN-   2012-04-18  2014-02-27\n",
       "ACORN-A  2011-12-04  2014-02-27\n",
       "ACORN-B  2011-12-24  2014-02-27\n",
       "ACORN-C  2011-12-07  2014-02-27\n",
       "ACORN-D  2011-11-24  2014-02-27\n",
       "ACORN-E  2011-11-24  2014-02-27\n",
       "ACORN-F  2011-11-24  2014-02-27\n",
       "ACORN-G  2011-11-24  2014-02-27\n",
       "ACORN-H  2011-11-25  2014-02-27\n",
       "ACORN-I  2012-01-24  2014-02-27\n",
       "ACORN-J  2011-12-08  2014-02-27\n",
       "ACORN-K  2011-11-29  2014-02-27\n",
       "ACORN-L  2011-11-24  2014-02-27\n",
       "ACORN-M  2011-12-15  2014-02-27\n",
       "ACORN-N  2011-12-09  2014-02-27\n",
       "ACORN-O  2011-11-26  2014-02-27\n",
       "ACORN-P  2011-12-08  2014-02-27\n",
       "ACORN-Q  2011-11-24  2014-02-27\n",
       "ACORN-U  2011-12-08  2014-02-27"
      ]
     },
     "execution_count": 10,
     "metadata": {},
     "output_type": "execute_result"
    }
   ],
   "source": [
    "# Просмотр минимальных и максимальных дат по каждому классу для того чтобы определить насколько полные данные нам предоставлены\n",
    "daily_dataset_with_hh_info[ daily_dataset_with_hh_info['energy_count'] == 48][['Acorn', 'day']]\\\n",
    ".groupby(by = 'Acorn')['day'].agg([min, max])"
   ]
  },
  {
   "cell_type": "code",
   "execution_count": 11,
   "metadata": {},
   "outputs": [
    {
     "data": {
      "text/html": [
       "<div>\n",
       "<style scoped>\n",
       "    .dataframe tbody tr th:only-of-type {\n",
       "        vertical-align: middle;\n",
       "    }\n",
       "\n",
       "    .dataframe tbody tr th {\n",
       "        vertical-align: top;\n",
       "    }\n",
       "\n",
       "    .dataframe thead th {\n",
       "        text-align: right;\n",
       "    }\n",
       "</style>\n",
       "<table border=\"1\" class=\"dataframe\">\n",
       "  <thead>\n",
       "    <tr style=\"text-align: right;\">\n",
       "      <th></th>\n",
       "      <th>Acorn</th>\n",
       "      <th>day</th>\n",
       "    </tr>\n",
       "  </thead>\n",
       "  <tbody>\n",
       "    <tr>\n",
       "      <th>0</th>\n",
       "      <td>ACORN-</td>\n",
       "      <td>771</td>\n",
       "    </tr>\n",
       "    <tr>\n",
       "      <th>1</th>\n",
       "      <td>ACORN-A</td>\n",
       "      <td>91872</td>\n",
       "    </tr>\n",
       "    <tr>\n",
       "      <th>2</th>\n",
       "      <td>ACORN-B</td>\n",
       "      <td>14321</td>\n",
       "    </tr>\n",
       "    <tr>\n",
       "      <th>3</th>\n",
       "      <td>ACORN-C</td>\n",
       "      <td>87783</td>\n",
       "    </tr>\n",
       "    <tr>\n",
       "      <th>4</th>\n",
       "      <td>ACORN-D</td>\n",
       "      <td>186880</td>\n",
       "    </tr>\n",
       "    <tr>\n",
       "      <th>5</th>\n",
       "      <td>ACORN-E</td>\n",
       "      <td>1011407</td>\n",
       "    </tr>\n",
       "    <tr>\n",
       "      <th>6</th>\n",
       "      <td>ACORN-F</td>\n",
       "      <td>441804</td>\n",
       "    </tr>\n",
       "    <tr>\n",
       "      <th>7</th>\n",
       "      <td>ACORN-G</td>\n",
       "      <td>122381</td>\n",
       "    </tr>\n",
       "    <tr>\n",
       "      <th>8</th>\n",
       "      <td>ACORN-H</td>\n",
       "      <td>268989</td>\n",
       "    </tr>\n",
       "    <tr>\n",
       "      <th>9</th>\n",
       "      <td>ACORN-I</td>\n",
       "      <td>29120</td>\n",
       "    </tr>\n",
       "    <tr>\n",
       "      <th>10</th>\n",
       "      <td>ACORN-J</td>\n",
       "      <td>64043</td>\n",
       "    </tr>\n",
       "    <tr>\n",
       "      <th>11</th>\n",
       "      <td>ACORN-K</td>\n",
       "      <td>105129</td>\n",
       "    </tr>\n",
       "    <tr>\n",
       "      <th>12</th>\n",
       "      <td>ACORN-L</td>\n",
       "      <td>201723</td>\n",
       "    </tr>\n",
       "    <tr>\n",
       "      <th>13</th>\n",
       "      <td>ACORN-M</td>\n",
       "      <td>65461</td>\n",
       "    </tr>\n",
       "    <tr>\n",
       "      <th>14</th>\n",
       "      <td>ACORN-N</td>\n",
       "      <td>90803</td>\n",
       "    </tr>\n",
       "    <tr>\n",
       "      <th>15</th>\n",
       "      <td>ACORN-O</td>\n",
       "      <td>60135</td>\n",
       "    </tr>\n",
       "    <tr>\n",
       "      <th>16</th>\n",
       "      <td>ACORN-P</td>\n",
       "      <td>71297</td>\n",
       "    </tr>\n",
       "    <tr>\n",
       "      <th>17</th>\n",
       "      <td>ACORN-Q</td>\n",
       "      <td>526266</td>\n",
       "    </tr>\n",
       "    <tr>\n",
       "      <th>18</th>\n",
       "      <td>ACORN-U</td>\n",
       "      <td>29167</td>\n",
       "    </tr>\n",
       "  </tbody>\n",
       "</table>\n",
       "</div>"
      ],
      "text/plain": [
       "      Acorn      day\n",
       "0    ACORN-      771\n",
       "1   ACORN-A    91872\n",
       "2   ACORN-B    14321\n",
       "3   ACORN-C    87783\n",
       "4   ACORN-D   186880\n",
       "5   ACORN-E  1011407\n",
       "6   ACORN-F   441804\n",
       "7   ACORN-G   122381\n",
       "8   ACORN-H   268989\n",
       "9   ACORN-I    29120\n",
       "10  ACORN-J    64043\n",
       "11  ACORN-K   105129\n",
       "12  ACORN-L   201723\n",
       "13  ACORN-M    65461\n",
       "14  ACORN-N    90803\n",
       "15  ACORN-O    60135\n",
       "16  ACORN-P    71297\n",
       "17  ACORN-Q   526266\n",
       "18  ACORN-U    29167"
      ]
     },
     "execution_count": 11,
     "metadata": {},
     "output_type": "execute_result"
    }
   ],
   "source": [
    "# Просмотр кол-ва счетчиков в каждом классе, для оценки предоставленных данных \n",
    "daily_dataset_with_hh_info[ daily_dataset_with_hh_info['energy_count'] == 48][['Acorn', 'day']]\\\n",
    ".groupby(by = 'Acorn', as_index=False)['day'].count()"
   ]
  },
  {
   "cell_type": "code",
   "execution_count": 12,
   "metadata": {},
   "outputs": [
    {
     "data": {
      "image/png": "[encoded data removed]",
      "text/plain": [
       "<Figure size 432x288 with 1 Axes>"
      ]
     },
     "metadata": {
      "needs_background": "light"
     },
     "output_type": "display_data"
    }
   ],
   "source": [
    "# Смотрим разпределение кол-ва показаний для счетчиков, чтоб понимать, насколько полные данные у нас имеются\n",
    "df = daily_dataset_with_hh_info[ daily_dataset_with_hh_info['energy_count'] == 48][['LCLid', 'Acorn', 'day']]\\\n",
    ".groupby(by = 'LCLid', as_index=False)['day', 'Acorn'].count()\n",
    "sns.distplot(df['Acorn'])\n",
    "\n",
    "# освобождаем память\n",
    "df = None"
   ]
  },
  {
   "cell_type": "markdown",
   "metadata": {},
   "source": [
    "#### Расчет результата и строительство графика по классам"
   ]
  },
  {
   "cell_type": "code",
   "execution_count": 13,
   "metadata": {},
   "outputs": [],
   "source": [
    "# создаем датафрейм, в котором для каждой категории ACORN показан средний расход по разным типам счетчиков\n",
    "# Исключаем дни с неполными показаниями, менее 48 и неопределенную категорию\n",
    "counter_type_consumption = daily_dataset_with_hh_info[\n",
    "    (daily_dataset_with_hh_info['energy_count'] == 48) &\n",
    "    (daily_dataset_with_hh_info['Acorn'] != 'ACORN-')\n",
    "].groupby(by = ['Acorn', 'stdorToU'], as_index=False)['energy_sum', 'energy_max'].mean()"
   ]
  },
  {
   "cell_type": "code",
   "execution_count": 15,
   "metadata": {},
   "outputs": [
    {
     "data": {
      "text/plain": [
       "([0, 1, 2, 3, 4, 5, 6, 7, 8, 9, 10, 11, 12, 13, 14, 15, 16, 17],\n",
       " <a list of 18 Text xticklabel objects>)"
      ]
     },
     "execution_count": 15,
     "metadata": {},
     "output_type": "execute_result"
    },
    {
     "data": {
      "text/plain": [
       "<Figure size 720x720 with 0 Axes>"
      ]
     },
     "metadata": {},
     "output_type": "display_data"
    },
    {
     "data": {
      "image/png": "[encoded data removed]",
      "text/plain": [
       "<Figure size 432x288 with 1 Axes>"
      ]
     },
     "metadata": {
      "needs_background": "light"
     },
     "output_type": "display_data"
    }
   ],
   "source": [
    "# Строим график для наглядности данных\n",
    "\n",
    "# Трансформируем таблицу чтобы средние показания счетчиков были разненсены по колонкам\n",
    "ct = counter_type_consumption.pivot(\n",
    "    index='Acorn', columns='stdorToU', values='energy_sum'\n",
    ").reset_index()\n",
    "\n",
    "# Строим график\n",
    "\n",
    "# Размер\n",
    "plt.figure(figsize=(10, 10))\n",
    "fig = plt.figure()\n",
    "axes = fig.add_axes([0, 0, 1, 1])\n",
    "axes.bar(x = ct['Acorn'], height = ct['Std'], \n",
    "         width = 0.4, align = 'edge', label = 'Std')\n",
    "axes.bar(x = ct['Acorn'], height = ct['ToU'], \n",
    "         width = -0.4, align = 'edge', label = 'ToU')\n",
    "axes.legend(loc = 1)\n",
    "\n",
    "# Поворот подписей по оси Х\n",
    "plt.xticks(rotation=90)"
   ]
  },
  {
   "cell_type": "markdown",
   "metadata": {},
   "source": [
    "#### Расчет общего влияния установки счетчика:"
   ]
  },
  {
   "cell_type": "code",
   "execution_count": 16,
   "metadata": {},
   "outputs": [],
   "source": [
    "# создаем датафрейм, в котором для каждого типа счетчика показан средний расход\n",
    "# Исключаем дни с неполными показаниями, менее 48 и неопределенную категорию\n",
    "report = daily_dataset_with_hh_info[\n",
    "    (daily_dataset_with_hh_info['energy_count'] == 48) &\n",
    "    (daily_dataset_with_hh_info['Acorn'] != 'ACORN-')\n",
    "].groupby(by = 'stdorToU', as_index=False).mean()"
   ]
  },
  {
   "cell_type": "code",
   "execution_count": 17,
   "metadata": {},
   "outputs": [
    {
     "data": {
      "text/plain": [
       "<matplotlib.axes._subplots.AxesSubplot at 0x21d1261dcf8>"
      ]
     },
     "execution_count": 17,
     "metadata": {},
     "output_type": "execute_result"
    },
    {
     "data": {
      "image/png": "[encoded data removed]",
      "text/plain": [
       "<Figure size 432x288 with 1 Axes>"
      ]
     },
     "metadata": {
      "needs_background": "light"
     },
     "output_type": "display_data"
    }
   ],
   "source": [
    "# строим график\n",
    "sns.barplot(x = 'stdorToU', y = 'energy_sum', data = report)"
   ]
  },
  {
   "cell_type": "markdown",
   "metadata": {},
   "source": [
    "#### Вычисляем общий процент экономии:"
   ]
  },
  {
   "cell_type": "code",
   "execution_count": 18,
   "metadata": {},
   "outputs": [],
   "source": [
    "def ToU_percentage(row):\n",
    "    return round((row['ToU']/((row['Std'] + row['ToU'])/2))*100)-100\n",
    "\n",
    "def Std_percentage(row):\n",
    "    return round((row['Std']/((row['Std'] + row['ToU'])/2))*100)-100\n",
    "\n",
    "# создаем датафрейм, в котором для каждого типа счетчика показан средний расход\n",
    "# Исключаем дни с неполными показаниями, менее 48 и неопределенную категорию\n",
    "report = daily_dataset_with_hh_info[\n",
    "    (daily_dataset_with_hh_info['energy_count'] == 48) &\n",
    "    (daily_dataset_with_hh_info['Acorn'] != 'ACORN-')\n",
    "].groupby(by = 'stdorToU')['energy_sum'].mean()\n",
    "\n",
    "# Делаем из серийного объекта датафрейм и поворачиваем его для удобства\n",
    "report2 = pd.DataFrame(index = report.index, data={'avg_power':report.values}).T\n",
    "report2['Std_p'] = report2.apply(Std_percentage, axis=1)\n",
    "report2['ToU_p'] = report2.apply(ToU_percentage, axis=1)"
   ]
  },
  {
   "cell_type": "markdown",
   "metadata": {},
   "source": [
    "#### Расчет показывает экономию 4%"
   ]
  },
  {
   "cell_type": "code",
   "execution_count": 19,
   "metadata": {},
   "outputs": [
    {
     "data": {
      "text/html": [
       "<div>\n",
       "<style scoped>\n",
       "    .dataframe tbody tr th:only-of-type {\n",
       "        vertical-align: middle;\n",
       "    }\n",
       "\n",
       "    .dataframe tbody tr th {\n",
       "        vertical-align: top;\n",
       "    }\n",
       "\n",
       "    .dataframe thead th {\n",
       "        text-align: right;\n",
       "    }\n",
       "</style>\n",
       "<table border=\"1\" class=\"dataframe\">\n",
       "  <thead>\n",
       "    <tr style=\"text-align: right;\">\n",
       "      <th>stdorToU</th>\n",
       "      <th>Std_p</th>\n",
       "      <th>ToU_p</th>\n",
       "    </tr>\n",
       "  </thead>\n",
       "  <tbody>\n",
       "    <tr>\n",
       "      <th>avg_power</th>\n",
       "      <td>4.0</td>\n",
       "      <td>-4.0</td>\n",
       "    </tr>\n",
       "  </tbody>\n",
       "</table>\n",
       "</div>"
      ],
      "text/plain": [
       "stdorToU   Std_p  ToU_p\n",
       "avg_power    4.0   -4.0"
      ]
     },
     "execution_count": 19,
     "metadata": {},
     "output_type": "execute_result"
    }
   ],
   "source": [
    "report2[['Std_p', 'ToU_p']]"
   ]
  }
 ],
 "metadata": {
  "kernelspec": {
   "display_name": "Python 3",
   "language": "python",
   "name": "python3"
  },
  "language_info": {
   "codemirror_mode": {
    "name": "ipython",
    "version": 3
   },
   "file_extension": ".py",
   "mimetype": "text/x-python",
   "name": "python",
   "nbconvert_exporter": "python",
   "pygments_lexer": "ipython3",
   "version": "3.7.3"
  }
 },
 "nbformat": 4,
 "nbformat_minor": 2
}
